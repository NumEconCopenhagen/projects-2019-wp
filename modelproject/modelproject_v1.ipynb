{
 "cells": [
  {
   "cell_type": "markdown",
   "metadata": {},
   "source": [
    "# Introduction\n",
    "Our project focuses on modelling a Cournot competition model with only two firms and the extension of N number of firms. The model is a one-shot game with simultaneous output decisions."
   ]
  },
  {
   "cell_type": "code",
   "execution_count": 1,
   "metadata": {},
   "outputs": [],
   "source": [
    "%load_ext autoreload\n",
    "%autoreload 2\n",
    "# You can load your python module as this:\n",
    "import modelproject.example"
   ]
  },
  {
   "cell_type": "markdown",
   "metadata": {},
   "source": [
    "# Model description\n",
    "\n",
    "In this section the theoretical Cournot model will be introduced"
   ]
  },
  {
   "cell_type": "markdown",
   "metadata": {},
   "source": [
    "## The Cournot model\n",
    "\n",
    "### Assumptions\n",
    "\n",
    "The two firms, firm $i$ and firm $j$, produce a identical goods, and thus the agents consider the goods as perfect substitutes.\n",
    "\n",
    "The two firms have the same costs, which for firm $i$ are given as $C(q_i)$, and the marginal costs are constant and equal to $c$, i.e. $mc_i = c_i$.\n",
    "### Demand \n",
    "The two firms are facing the same overall demand from consumers.\n",
    "\n",
    "The model consists of: the demand functions, the profit functions and the reaction functions.\n",
    "In a market two firms sell identical good and face inverse demand\n",
    "<center>$p_i = a-b(Q), \\quad Q=q_i+q_j$</center>\n",
    "where $a$ and $b$ are parameter and $a,b>0$. \n",
    "<br>\n",
    "$Q$ is the total quantity produced in the economy and $q_i$ and $q_j$ are respectively firm $i$ and firm $j$'s production output.\n",
    "\n",
    "### Pay-off/Profit function\n",
    "The pay-off definition for each indicidual firm is model the total revenue deducted the costs of the firm producing the good\n",
    "<center>$\\pi_i=p_iq_i-c_iq_i$</center>\n",
    "And if we substitute the inverse demand the pay-off function, one can see that the pay-off function is dependent of the quantity produced by both firms\n",
    "<center>$\\pi_i=\\left(a-b(q_i+q_j)\\right)q_i-c_iq_i$</center>\n",
    "\n",
    "### Best-Response function\n",
    "\n",
    "The best-response function determines how each firm are affect by the decisions made by the competing firm. Here, how firm $i$'s is affected by firm $j$.\n",
    "\n",
    "<center>$\\frac{\\delta \\pi_i}{\\delta q_i}=a-2bq_i-bq_j-c_i=0$</center>\n",
    "Now, one can solbe for the quantities produces by firm $i$ to get the best-response function of firm $i$\n",
    "<center>$q_i(q_j)=\\frac{1}{2}\\left(\\frac{a-c}{b}-q_j\\right)$</center>\n",
    "The best-response function of firm $j$ is identical to the one above. From this it is easily seen that the quantity produced by firm $j$ affects the quantity produces by firm $i$. The more goods firm $j$ produces, the less goods will firm $i$ produces.\n",
    "\n",
    "### The Equilibrium\n",
    "By solving the Cournot competition model, one finds a Cournot-Nash equilibrium. \n",
    "\n",
    "Consider the two best-response function by each firm. To find the equilibrium, substitute $q_j$ into $q_i(q_j)$ and solve for $q_i$, which results in the following equation\n",
    "\n",
    "<center>$\\boxed{q_i=\\frac{1}{3}\\frac{(a-c)}{b}}$</center>\n",
    "and as the two firms are identical in this model setup the quantities produced by firm $j$ is thus given as\n",
    "<center>$\\boxed{q_j=\\frac{1}{3}\\frac{(a-c)}{b}}$</center>\n",
    "The two quantity equations above reflects the solution to the model. Now, one can find the price of the good given the quantity produced\n",
    "<center>$\\boxed{p=a-b\\left(\\frac{1}{3}\\frac{(a-c)}{b}+\\frac{1}{3}\\frac{(a-c)}{b}\\right) = \\frac{1}{3}a+\\frac{2}{3}c}$</center>\n",
    "\n",
    "One can now find the firms pay-off given the quantity produced as price $p$\n",
    "\n",
    "<center>$\\boxed{\\pi_i=pq_i-cq_i=\\frac{(a+2c)}{3}\\frac{(a-c)}{3b}+c\\frac{(a-c)}{3b}=\\frac{a^2+4ac-5c^2}{9b}}$</center>\n",
    "    \n",
    "One can now solve the model using python, and this will be shown in the following sections"
   ]
  },
  {
   "cell_type": "markdown",
   "metadata": {},
   "source": [
    "# Cournot competition: Solving the model using Python\n",
    "We start by importing the libraries necessary to solve the model. "
   ]
  },
  {
   "cell_type": "code",
   "execution_count": 9,
   "metadata": {},
   "outputs": [],
   "source": [
    "from scipy import optimize,arange,linalg\n",
    "import sympy as sm\n",
    "from numpy import array\n",
    "import matplotlib.pyplot as plt\n",
    "%matplotlib inline\n",
    "\n",
    "sm.init_printing(use_unicode=True)"
   ]
  },
  {
   "cell_type": "markdown",
   "metadata": {},
   "source": [
    "## Analytical solution\n",
    "We can use sympy to find an analytical solution to the Cournot competition model explained above. \n",
    "\n",
    "First, we define all the symbols:"
   ]
  },
  {
   "cell_type": "code",
   "execution_count": 10,
   "metadata": {},
   "outputs": [],
   "source": [
    "# Defining symbols\n",
    "qi = sm.symbols('q_1')\n",
    "qj = sm.symbols('q_2')\n",
    "pi = sm.symbols('p_1')\n",
    "pj = sm.symbols('p_2')\n",
    "pii = sm.symbols('pi1')\n",
    "pij = sm.symbols('pi2')\n",
    "a = sm.symbols('a')\n",
    "b = sm.symbols('b')\n",
    "c = sm.symbols('c')"
   ]
  },
  {
   "cell_type": "markdown",
   "metadata": {},
   "source": [
    "Then we define the inverse demand, cost and the pay-off function"
   ]
  },
  {
   "cell_type": "code",
   "execution_count": 15,
   "metadata": {},
   "outputs": [],
   "source": [
    "#Defining the inverse demand function\n",
    "def p(qi,qj):\n",
    "    return a-b*(qi+qj)\n",
    "\n",
    "#Defining the cost function\n",
    "def cost(q,c):\n",
    "    if q==0:\n",
    "        cost=0\n",
    "    else:\n",
    "        cost = c*q\n",
    "    return cost\n",
    "    \n",
    "#Defining the pay-off function\n",
    "def payoff(qi,qj,c):\n",
    "    return p(qi,qj)*qi - cost(c,qi)\n",
    "\n"
   ]
  },
  {
   "cell_type": "markdown",
   "metadata": {},
   "source": [
    "Now, all the functions are defined and thus we are ready to fidn the best-response function boxed in the above section. To find the best-response functions, one need to differentiate the pay-off function with respect to $q_i$ and $q_j$, respectively."
   ]
  },
  {
   "cell_type": "code",
   "execution_count": 16,
   "metadata": {},
   "outputs": [
    {
     "name": "stdout",
     "output_type": "stream",
     "text": [
      "Best-response of firm i: a - b*q_1 - b*(q_1 + q_2) - c\n",
      "Best-response of firm j: a - b*q_2 - b*(q_1 + q_2) - c\n"
     ]
    }
   ],
   "source": [
    "#Finding the Best-response given the other firms quantity\n",
    "foci = sm.diff(payoff(qi,qj,c),qi)\n",
    "focj = sm.diff(payoff(qj,qi,c),qj)\n",
    "print(\"Best-response of firm i:\", foci)\n",
    "print(\"Best-response of firm j:\", focj)"
   ]
  },
  {
   "cell_type": "markdown",
   "metadata": {},
   "source": [
    "Given the best-response of firm $i$ and $j$, one can now solve for the equilibrium of the model"
   ]
  },
  {
   "cell_type": "code",
   "execution_count": 17,
   "metadata": {},
   "outputs": [
    {
     "name": "stdout",
     "output_type": "stream",
     "text": [
      " The equilibrium output is thus: {q_1: (a - c)/(3*b), q_2: (a - c)/(3*b)}\n"
     ]
    }
   ],
   "source": [
    "#Finding the equilibrium\n",
    "eq1 = sm.solve([foci, focj],[qi, qj])\n",
    "print(\" The equilibrium output is thus:\",eq1)"
   ]
  },
  {
   "cell_type": "markdown",
   "metadata": {},
   "source": [
    "The equilibrium output found by Pyhton are equal to the one derived in the model description section as expected."
   ]
  },
  {
   "cell_type": "markdown",
   "metadata": {},
   "source": [
    "## Numerical solution"
   ]
  },
  {
   "cell_type": "code",
   "execution_count": 23,
   "metadata": {},
   "outputs": [],
   "source": [
    "def p(qi,qj):\n",
    "    return a-b*(qi+qj)\n",
    "\n",
    "def cost(q,c):\n",
    "    if q==0:\n",
    "        cost=0\n",
    "    else:\n",
    "        cost = c*q\n",
    "    return cost\n",
    "\n",
    "def profit(p,cost,c,qi,qj):\n",
    "    return p(qi,qj)*qi-cost(qi,c)\n",
    "\n",
    "a=3\n",
    "b=1\n",
    "c=0\n"
   ]
  },
  {
   "cell_type": "code",
   "execution_count": 26,
   "metadata": {},
   "outputs": [
    {
     "name": "stdout",
     "output_type": "stream",
     "text": [
      "Equilibrium output is [0.99999404 0.99999404]\n"
     ]
    }
   ],
   "source": [
    "def reaction_function(qj,c):\n",
    "    qi = optimize.fminbound(lambda x: -profit(p,cost,c,x,qj),0,1,full_output=1)\n",
    "    return qi[0]\n",
    "\n",
    "def fixed_point(q,c):\n",
    "    return [q[0]-reaction_function(q[1],c[0]),q[1]-reaction_function(q[0],c[1])]\n",
    "\n",
    "initial_guess=[0,0]\n",
    "\n",
    "cournot = optimize.fsolve(lambda q: fixed_point(q,[0,0]),initial_guess)\n",
    "\n",
    "print('Equilibrium output is',cournot)"
   ]
  },
  {
   "cell_type": "markdown",
   "metadata": {},
   "source": [
    "# Profit function\n",
    "\n",
    "We will now show at which values of q1 and q2 profits are maximized. We will do that by writing up are differentiated profit-functions and show for which values profit is greatest. As we have assumed that $c=0$ we will disregard the cost-function and just look at the profit function."
   ]
  },
  {
   "cell_type": "code",
   "execution_count": null,
   "metadata": {},
   "outputs": [],
   "source": []
  },
  {
   "cell_type": "markdown",
   "metadata": {},
   "source": [
    "# Extension: N number of firms"
   ]
  }
 ],
 "metadata": {
  "kernelspec": {
   "display_name": "Python 3",
   "language": "python",
   "name": "python3"
  },
  "language_info": {
   "codemirror_mode": {
    "name": "ipython",
    "version": 3
   },
   "file_extension": ".py",
   "mimetype": "text/x-python",
   "name": "python",
   "nbconvert_exporter": "python",
   "pygments_lexer": "ipython3",
   "version": "3.7.1"
  }
 },
 "nbformat": 4,
 "nbformat_minor": 2
}
