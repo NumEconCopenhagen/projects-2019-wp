{
 "cells": [
  {
   "cell_type": "markdown",
   "metadata": {},
   "source": [
    "# Introduction\n",
    "Our project focuses on modelling a Cournot competition model with only two firms and the extension of N number of firms. The model is a one-shot game with simultaneous output decisions."
   ]
  },
  {
   "cell_type": "markdown",
   "metadata": {},
   "source": [
    "# Model description\n",
    "\n",
    "In this section the theoretical Cournot model will be introduced"
   ]
  },
  {
   "cell_type": "markdown",
   "metadata": {},
   "source": [
    "## The Cournot model\n",
    "\n",
    "### Assumptions\n",
    "\n",
    "The two firms, firm $i$ and firm $j$, produce a identical goods, and thus the agents consider the goods as perfect substitutes.\n",
    "\n",
    "The two firms have the same costs, which for firm $i$ are given as $C(q_i)$, and the marginal costs are constant and equal to $c$, i.e. $c(q_i) = q_ic_i$.\n",
    "### Demand \n",
    "The two firms are facing the same overall demand from consumers.\n",
    "\n",
    "The model consists of: the demand functions, the profit functions and the reaction functions.\n",
    "In a market two firms sell identical good and face inverse demand\n",
    "<center>$p_i(q_i,q_j) = 1-q_i-bq_j, $</center>\n",
    "where $b$ determines the elasticity of substitution between the two goods. If $b$ is equal to one, the goods are perfect substitutes, and if, $b<0$ the goods are differentiated\n",
    "<br>\n",
    "$Q$ is the total quantity produced in the economy and $q_i$ and $q_j$ are respectively firm $i$ and firm $j$'s production output.\n",
    "\n",
    "### Pay-off/Profit function\n",
    "The pay-off definition for each indicidual firm is model the total revenue deducted the costs of the firm producing the good\n",
    "<center>$\\pi_i(q_i,q_j)=p_i(q_i,q_j)-c_iq_i$</center>\n",
    "\n",
    "\n",
    "### Best-Response function\n",
    "\n",
    "The best-response function determines how each firm are affect by the decisions made by the competing firm. Here, how firm $i$'s is affected by firm $j$.\n",
    "\n",
    "<center>$\\frac{\\delta \\pi_i}{\\delta q_i}=a-2bq_i-bq_j-c_i=0$</center>\n",
    "Now, one can solbe for the quantities produces by firm $i$ to get the best-response function of firm $i$\n",
    "<center>$q_i(q_j)=\\frac{1}{2}\\left(\\frac{a-c}{b}-q_j\\right)$</center>\n",
    "The best-response function of firm $j$ is identical to the one above. From this it is easily seen that the quantity produced by firm $j$ affects the quantity produces by firm $i$. The more goods firm $j$ produces, the less goods will firm $i$ produces.\n",
    "\n",
    "### The Equilibrium\n",
    "By solving the Cournot competition model, one finds a Cournot-Nash equilibrium. \n",
    "\n",
    "Consider the two best-response function by each firm. To find the equilibrium, substitute $q_j$ into $q_i(q_j)$ and solve for $q_i$, which results in the following equation\n",
    "\n",
    "<center>$\\boxed{q_i=\\frac{1}{3}\\frac{(a-c)}{b}}$</center>\n",
    "and as the two firms are identical in this model setup the quantities produced by firm $j$ is thus given as\n",
    "<center>$\\boxed{q_j=\\frac{1}{3}\\frac{(a-c)}{b}}$</center>\n",
    "The two quantity equations above reflects the solution to the model. Now, one can find the price of the good given the quantity produced\n",
    "<center>$\\boxed{p=a-b\\left(\\frac{1}{3}\\frac{(a-c)}{b}+\\frac{1}{3}\\frac{(a-c)}{b}\\right) = \\frac{1}{3}a+\\frac{2}{3}c}$</center>\n",
    "\n",
    "One can now find the firms pay-off given the quantity produced as price $p$\n",
    "\n",
    "<center>$\\boxed{\\pi_i=pq_i-cq_i=\\frac{(a+2c)}{3}\\frac{(a-c)}{3b}+c\\frac{(a-c)}{3b}=\\frac{a^2+4ac-5c^2}{9b}}$</center>\n",
    "    \n",
    "One can now solve the model using python, and this will be shown in the following sections"
   ]
  },
  {
   "cell_type": "markdown",
   "metadata": {},
   "source": [
    "# Cournot competition: Solving the model using Python\n",
    "We start by importing the libraries necessary to solve the model. "
   ]
  },
  {
   "cell_type": "code",
   "execution_count": 96,
   "metadata": {},
   "outputs": [],
   "source": [
    "from scipy import optimize,arange,linalg\n",
    "import sympy as sm\n",
    "from numpy import array\n",
    "import matplotlib.pyplot as plt\n",
    "%matplotlib inline\n",
    "import pandas as pd\n",
    "sm.init_printing(use_unicode=True)"
   ]
  },
  {
   "cell_type": "markdown",
   "metadata": {},
   "source": [
    "## Defining the model equations/functions and variables\n",
    "We can use sympy to find an analytical solution to the Cournot competition model explained above. \n",
    "\n",
    "First, we define all the symbols:"
   ]
  },
  {
   "cell_type": "markdown",
   "metadata": {},
   "source": [
    "Then we define the inverse demand, cost and the pay-off function"
   ]
  },
  {
   "cell_type": "code",
   "execution_count": 97,
   "metadata": {},
   "outputs": [],
   "source": [
    "#Defining the inverse demand function\n",
    "def p(qi,qj,b):\n",
    "    return 1-qi-b*qj\n",
    "\n",
    "#Defining the cost function\n",
    "def cost(q,c):\n",
    "    if q==0:\n",
    "        cost=0\n",
    "    else:\n",
    "        cost = c*q\n",
    "    return cost\n",
    "    \n",
    "#Defining the pay-off function\n",
    "def payoff(qi,qj,c1,b):\n",
    "    return p(qi,qj,b)*qi - cost(qi,c1)\n",
    "\n"
   ]
  },
  {
   "cell_type": "markdown",
   "metadata": {},
   "source": [
    "Now, all the functions are defined and thus we are ready to find the best-response function boxed in the above section. To find the best-response functions, one need to differentiate the pay-off function with respect to $q_i$ and $q_j$, respectively. As the method brute minimises, we minimize -profit to maximize."
   ]
  },
  {
   "cell_type": "code",
   "execution_count": 98,
   "metadata": {},
   "outputs": [],
   "source": [
    "#Best-response function: b\n",
    "def BR(qj,c1,b):\n",
    "    qi = optimize.brute(lambda q: -payoff(q,qj,c1,b), ((0,1,),))\n",
    "    return qi[0]"
   ]
  },
  {
   "cell_type": "markdown",
   "metadata": {},
   "source": [
    "The next piece of code is a fixed point function to find an equilibrium. The fixed point function is here characterised with $q-f(q)$. The function is looking for a solution for $x^*$ so it equals zero."
   ]
  },
  {
   "cell_type": "code",
   "execution_count": 99,
   "metadata": {},
   "outputs": [],
   "source": [
    "def fixedpoint(q,var): # vector param = (b,ci,cj)\n",
    "    return array(q)-array([BR(q[1],var[1],var[0]),BR(q[0],var[2],var[0])])\n"
   ]
  },
  {
   "cell_type": "markdown",
   "metadata": {},
   "source": [
    "## The Cournot competition equilibrium\n",
    "Now, one can find the Cournot nash-equilibrium. In this exercise we will fokus on zero marginal costs and fixed ccost in production of both firms.  From the scipy.optimize module we use **fsolve** to find the optimal quantities given the parameters in **var**"
   ]
  },
  {
   "cell_type": "code",
   "execution_count": 100,
   "metadata": {},
   "outputs": [
    {
     "name": "stdout",
     "output_type": "stream",
     "text": [
      "[0.33332649 0.33332649]\n"
     ]
    }
   ],
   "source": [
    "var = [1,0,0]\n",
    "q_ini =[0,0]\n",
    "solution = optimize.fsolve(fixedpoint,q_ini,args=(var))\n",
    "print(solution)\n"
   ]
  },
  {
   "cell_type": "markdown",
   "metadata": {},
   "source": [
    "The Cournot equilibrium quantities is thus $q_i=q_j=0.33$. Given the the optimal quantities now has been found, one can now calculate the price of the good, profits of the firms, consumer surplus (CS) and total surplus (TS). This is computed below."
   ]
  },
  {
   "cell_type": "code",
   "execution_count": 101,
   "metadata": {},
   "outputs": [
    {
     "name": "stdout",
     "output_type": "stream",
     "text": [
      "[['qi_star', '0.33'], ['qj_star', '0.33'], ['p_star', '0.33'], ['Q_star', '0.67'], ['Profits firm i', '0.11'], ['Profits firm j', '0.11'], ['Total surplus', '0.44'], ['Consumer surplus', '0.22']]\n"
     ]
    }
   ],
   "source": [
    "qi_sol=solution[0]\n",
    "qj_sol=solution[1]\n",
    "format(qi_sol, '.2f')\n",
    "format(qj_sol, '.2f')\n",
    "#Calculating equilibrium price\n",
    "price_ans = 1-qi_sol-var[0]*qj_sol\n",
    "format(price_ans, '.2f')\n",
    "#Aggregate quantities\n",
    "Q_ans=solution[0]+solution[1]\n",
    "format(Q_ans, '.2f')\n",
    "#Profits\n",
    "i_profit =price_ans*qi_sol #No marginal costs\n",
    "j_profit =price_ans*qj_sol #No marginal costs\n",
    "format(i_profit, '.2f')\n",
    "format(j_profit, '.2f')\n",
    "#CS and TS\n",
    "CS = Q_ans*(1-price_ans)/2\n",
    "TS = (i_profit+j_profit)+CS\n",
    "format(TS, '.2f')\n",
    "format(CS, '.2f')\n",
    "results=[[\"qi_star\", format(qi_sol, '.2f')],\n",
    "        [\"qj_star\", format(qj_sol, '.2f')],\n",
    "        [\"p_star\", format(price_ans, '.2f')],\n",
    "        [\"Q_star\", format(Q_ans, '.2f')],\n",
    "        [\"Profits firm i\", format(i_profit, '.2f')],\n",
    "        [\"Profits firm j\", format(j_profit, '.2f')],\n",
    "        [\"Total surplus\",format(TS, '.2f')],\n",
    "        [\"Consumer surplus\",format(CS, '.2f')]]\n",
    "print(results)"
   ]
  },
  {
   "cell_type": "markdown",
   "metadata": {},
   "source": [
    "The following code sets up a table for the solutions in **results**"
   ]
  },
  {
   "cell_type": "code",
   "execution_count": 102,
   "metadata": {},
   "outputs": [],
   "source": [
    "# Create dataframe\n",
    "df = pd.DataFrame(results)\n",
    "df.columns = ['Variable', 'Value']"
   ]
  },
  {
   "cell_type": "markdown",
   "metadata": {},
   "source": [
    "One can now present the results of the Cournot competition with zero marginal costs"
   ]
  },
  {
   "cell_type": "code",
   "execution_count": 103,
   "metadata": {},
   "outputs": [
    {
     "data": {
      "text/html": [
       "<div>\n",
       "<style scoped>\n",
       "    .dataframe tbody tr th:only-of-type {\n",
       "        vertical-align: middle;\n",
       "    }\n",
       "\n",
       "    .dataframe tbody tr th {\n",
       "        vertical-align: top;\n",
       "    }\n",
       "\n",
       "    .dataframe thead th {\n",
       "        text-align: right;\n",
       "    }\n",
       "</style>\n",
       "<table border=\"1\" class=\"dataframe\">\n",
       "  <thead>\n",
       "    <tr style=\"text-align: right;\">\n",
       "      <th></th>\n",
       "      <th>Variable</th>\n",
       "      <th>Value</th>\n",
       "    </tr>\n",
       "  </thead>\n",
       "  <tbody>\n",
       "    <tr>\n",
       "      <th>0</th>\n",
       "      <td>qi_star</td>\n",
       "      <td>0.33</td>\n",
       "    </tr>\n",
       "    <tr>\n",
       "      <th>1</th>\n",
       "      <td>qj_star</td>\n",
       "      <td>0.33</td>\n",
       "    </tr>\n",
       "    <tr>\n",
       "      <th>2</th>\n",
       "      <td>p_star</td>\n",
       "      <td>0.33</td>\n",
       "    </tr>\n",
       "    <tr>\n",
       "      <th>3</th>\n",
       "      <td>Q_star</td>\n",
       "      <td>0.67</td>\n",
       "    </tr>\n",
       "    <tr>\n",
       "      <th>4</th>\n",
       "      <td>Profits firm i</td>\n",
       "      <td>0.11</td>\n",
       "    </tr>\n",
       "    <tr>\n",
       "      <th>5</th>\n",
       "      <td>Profits firm j</td>\n",
       "      <td>0.11</td>\n",
       "    </tr>\n",
       "    <tr>\n",
       "      <th>6</th>\n",
       "      <td>Total surplus</td>\n",
       "      <td>0.44</td>\n",
       "    </tr>\n",
       "    <tr>\n",
       "      <th>7</th>\n",
       "      <td>Consumer surplus</td>\n",
       "      <td>0.22</td>\n",
       "    </tr>\n",
       "  </tbody>\n",
       "</table>\n",
       "</div>"
      ],
      "text/plain": [
       "           Variable Value\n",
       "0           qi_star  0.33\n",
       "1           qj_star  0.33\n",
       "2            p_star  0.33\n",
       "3            Q_star  0.67\n",
       "4    Profits firm i  0.11\n",
       "5    Profits firm j  0.11\n",
       "6     Total surplus  0.44\n",
       "7  Consumer surplus  0.22"
      ]
     },
     "execution_count": 103,
     "metadata": {},
     "output_type": "execute_result"
    }
   ],
   "source": [
    "df"
   ]
  },
  {
   "cell_type": "markdown",
   "metadata": {},
   "source": [
    "## Extension: Cournot competition with collusion\n",
    "In this section we look into a situation where the firms collude on output levels. Again, we assume identical marginal costs and is assumed to be zero. \n",
    "\n",
    "For the output level to be collusive the level has to satisfy to following restriction\n",
    "\n",
    "<center>$\\pi(q,q\\geq (1-\\delta)max\\pi(\\hat{q},q)+\\delta\\pi(q^*,q^*)$</center>\n",
    "where $\\delta$ is discount factor, $q^*$ is the equilibrium for the firm and $\\hat{q}$ is the firm's best response to the other firms output level.\n",
    "(Vi skal have skrevet lidt mere til teorien)\n",
    "\n",
    "The following definition is the collusion profit function. When collusion cannot be sustained, the profit of the industry will thus be zero."
   ]
  },
  {
   "cell_type": "code",
   "execution_count": 115,
   "metadata": {},
   "outputs": [],
   "source": [
    "def collusion_profits(q,b,c,delta): \n",
    "    profits = payoff(q,q,c,b)\n",
    "    ans = optimize.fsolve(fixedpoint, q_ini, args = ([b,c,c]))\n",
    "    if profits >= (1-delta)*payoff(BR(q,c,b),q,c,b)+delta*payoff(ans[0],ans[1],c,b):\n",
    "        industry_profits = 2*profits\n",
    "    else:\n",
    "        industry_profits = 0 \n",
    "    return industry_profits"
   ]
  },
  {
   "cell_type": "markdown",
   "metadata": {},
   "source": [
    "To investigate the relationship between the the discount factor and profits the following will present a graphical illustration with two values of discout factor, here $0.25$ and $0.9$"
   ]
  },
  {
   "cell_type": "code",
   "execution_count": 120,
   "metadata": {},
   "outputs": [
    {
     "data": {
      "text/plain": [
       "<matplotlib.legend.Legend at 0x10203a1c18>"
      ]
     },
     "execution_count": 120,
     "metadata": {},
     "output_type": "execute_result"
    },
    {
     "data": {
      "image/png": "[encoded data removed]",
      "text/plain": [
       "<Figure size 432x288 with 1 Axes>"
      ]
     },
     "metadata": {
      "needs_background": "light"
     },
     "output_type": "display_data"
    }
   ],
   "source": [
    "range_q = arange(0.25,solution[0],0.01)\n",
    "delta1 = 0.9\n",
    "delta2 = 0.25\n",
    "range_profits = [collusion_profits(q,1.0,0.0,delta1) for q in range_q]\n",
    "range_profits2 = [collusion_profits(q,1.0,0.0,delta2) for q in range_q]\n",
    "\n",
    "plt.clf()\n",
    "\n",
    "plt.plot(range_q, range_profits,'-', color = 'r', linewidth = 2, label='delta=0.9')\n",
    "plt.plot(range_q, range_profits2,'-', color = 'b', linewidth = 2, label='delta=0.3')\n",
    "plt.title(\"Collusion profits\",fontsize = 15)\n",
    "plt.xlabel(\"output\",fontsize = 15)\n",
    "plt.ylabel(\"profits\",fontsize = 15,rotation = 90)\n",
    "plt.xlim(0.25,0.33)\n",
    "plt.ylim(0.0,0.3)\n",
    "plt.legend()"
   ]
  }
 ],
 "metadata": {
  "kernelspec": {
   "display_name": "Python 3",
   "language": "python",
   "name": "python3"
  },
  "language_info": {
   "codemirror_mode": {
    "name": "ipython",
    "version": 3
   },
   "file_extension": ".py",
   "mimetype": "text/x-python",
   "name": "python",
   "nbconvert_exporter": "python",
   "pygments_lexer": "ipython3",
   "version": "3.7.1"
  }
 },
 "nbformat": 4,
 "nbformat_minor": 2
}
