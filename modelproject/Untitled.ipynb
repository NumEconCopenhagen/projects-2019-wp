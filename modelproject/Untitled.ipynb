{
 "cells": [
  {
   "cell_type": "code",
   "execution_count": 4,
   "metadata": {},
   "outputs": [],
   "source": [
    "from scipy import optimize, arange\n",
    "from numpy import array\n",
    "import matplotlib.pyplot as plt\n",
    "%matplotlib inline"
   ]
  },
  {
   "cell_type": "markdown",
   "metadata": {},
   "source": [
    "## Utility for a consumer and the demand function\n",
    "\n",
    "We assume that consumers will either buy one unit or none. We have $n$ consumers, and a consumer $n$ can either buy the product at a price $n-p$ or choose not to buy a product and get utility $0$. We thus have that the outside option for not buying is $0$ so a consumer will buy if $n-p\\geq0$. The piece of code in the next line defines that."
   ]
  },
  {
   "cell_type": "code",
   "execution_count": 5,
   "metadata": {},
   "outputs": [],
   "source": [
    "def u(n,p): # the utility of a consumer with valuation of the good at n.\n",
    "    return n-p\n",
    "\n",
    "consumer_types = arange(0.0,1.01,0.01) #we start at 0.0 and end at 1.01 with evently spaced consumers with a space of 0.01\n",
    "\n",
    "def buy(n,p):\n",
    "    if u(n,p)>=0:\n",
    "        buy=1.0\n",
    "    else:\n",
    "        buy=0.0\n",
    "    return buy\n",
    "\n",
    "def total_demand(p):\n",
    "    demand_vector = [buy(n,p)/len(consumer_types) for n in consumer_types]\n",
    "    return sum(demand_vector)"
   ]
  },
  {
   "cell_type": "markdown",
   "metadata": {},
   "source": [
    "## Competition in a Bertrand model.\n",
    "In a Bertrand model, firms compete by setting prices and not quantities. In a Bertrand setting we will have that the firm with lowest prices will sell to all consumers. We can write this up as:\n",
    "\n",
    "$$\\pi_1(p_1,p_2)=\\begin{cases} 0 \\quad if p_1>p_2 \\\\ \\frac{1}{2}*x(p_1)(p_1-c_1) \\quad if p_1=p_2 \\\\ x(p_1)*(p_1-c_1)\\quad if p_1<p_2 \\end{cases}$$\n",
    "\n",
    "So if the price of the competing firm is lower than yours (and higher than your marginal cost) you would have an incentive to decrease your price and gain a larger profit."
   ]
  },
  {
   "cell_type": "code",
   "execution_count": 22,
   "metadata": {},
   "outputs": [],
   "source": [
    "def profit(p1,p2,c1):\n",
    "    if p1>p2:\n",
    "        profits=0\n",
    "    elif p1==p2:\n",
    "        profits = 0.5*total_demand(p1)*(p1-c1)\n",
    "    else:\n",
    "        profits= total_demand(p1)*(p1-c1)\n",
    "    return profits\n",
    "\n",
    "# we are here stating that if p1>p2, then we have 0 profits. If prices are identical then they share the total demand equally\n",
    "# and if those two statements are not fulfilled then that must mean that p1<p2 and firm 1 will therefore\n",
    "# gain all profits from the market.\n",
    "\n",
    "def reaction(p2,c1):\n",
    "    if p2>c1:\n",
    "        reaction = c1+0.8*(p2-c1)\n",
    "    else:\n",
    "        reaction = c1\n",
    "    return reaction"
   ]
  },
  {
   "cell_type": "markdown",
   "metadata": {},
   "source": [
    "## Finding the equilibrium in the model"
   ]
  },
  {
   "cell_type": "code",
   "execution_count": 23,
   "metadata": {},
   "outputs": [
    {
     "name": "stdout",
     "output_type": "stream",
     "text": [
      "[5.e-324 5.e-324]\n"
     ]
    }
   ],
   "source": [
    "def vector_reaction(p,param):\n",
    "    return array(p)-array([reaction(p[1],param[0]),reaction(p[0],param[1])])\n",
    "\n",
    "param = [0.0,0.0] # we assume that c1=c2=0\n",
    "p0 = [0.5,0.5] #our initial guesses for the prices p1 and p2 is equal to 0.5\n",
    "\n",
    "ans = optimize.fsolve(vector_reaction, p0, args = (param))\n",
    "print(ans)"
   ]
  },
  {
   "cell_type": "markdown",
   "metadata": {},
   "source": [
    "As expected we find that $p_1=p_2=c_1=c_2=0$ which is the standard result in a Bertrand model. The reason is that firms will underbid each other until they set prices equal to marginal costs, and since we assumed that $c_1=c_2=0$ we will therefore naturally find that prices should be equal to $0$."
   ]
  },
  {
   "cell_type": "markdown",
   "metadata": {},
   "source": [
    "## Extension of the model: Collusion\n",
    "\n",
    "Der skal stå noget mere men virksomheden vil collude hvis:\n",
    "$$\\pi(x,x)\\frac{1}{1-\\delta}\\geq(1-\\delta)\\pi(\\bar{x},x)+\\frac{\\delta}{1-\\delta}\\pi(x,x)$$\n",
    "So they will collude if the increase in profits that they gain from deviating from the equilibrium strategy, is greater than the profits they would have from not deviating from the equilibrium strategy (skal uddybes mere).\n",
    "\n",
    "We will focus on a case where $c_1=c_2=c$ and prices are identical $p_1=p_2=p$."
   ]
  },
  {
   "cell_type": "code",
   "execution_count": 26,
   "metadata": {},
   "outputs": [],
   "source": [
    "def collusion_profits(p,c,delta):\n",
    "    profits = profit(p,p,c)\n",
    "    ans = optimize.fsolve(vector_reaction,p0, args=([c,c]))\n",
    "    if profits >= (1-delta)*2*profits+delta*profit(ans[0],ans[1],c):\n",
    "        industry_profit = 2*profits\n",
    "    else:\n",
    "        industry_profit = 0\n",
    "    return industry_profit\n"
   ]
  },
  {
   "cell_type": "code",
   "execution_count": 30,
   "metadata": {},
   "outputs": [
    {
     "data": {
      "text/plain": [
       "(0.0, 0.2)"
      ]
     },
     "execution_count": 30,
     "metadata": {},
     "output_type": "execute_result"
    },
    {
     "data": {
      "image/png": "[encoded data removed]",
      "text/plain": [
       "<Figure size 432x288 with 1 Axes>"
      ]
     },
     "metadata": {
      "needs_background": "light"
     },
     "output_type": "display_data"
    }
   ],
   "source": [
    "c = 0.2 # We assume c=0.2\n",
    "range_p = arange(0.0,1.01,0.01)\n",
    "delta1=0.9\n",
    "delta2=0.2\n",
    "\n",
    "range_profits = [collusion_profits(p,c,delta1) for p in range_p]\n",
    "range_profits_2 = [collusion_profits(p,c,delta2) for p in range_p]\n",
    "\n",
    "plt.clf()\n",
    "plt.plot(range_p, range_profits,'-', color = 'r', linewidth = 2)\n",
    "plt.plot(range_p, range_profits_2,'-', color = 'b', linewidth = 2)\n",
    "plt.title(\"Collusion profits\",fontsize = 15)\n",
    "plt.xlabel(\"price\",fontsize = 15)\n",
    "plt.ylabel(\"profits\",fontsize = 15,rotation = 90)\n",
    "plt.xlim(c,1.0)\n",
    "plt.ylim(0.0,0.2)\n"
   ]
  },
  {
   "cell_type": "markdown",
   "metadata": {},
   "source": [
    "We see here that collusion is not a possibility when $\\delta=0.4$ but when $\\delta=0.9$ it is possible to collude. The price that gives the highest profit is around $0.6$"
   ]
  },
  {
   "cell_type": "code",
   "execution_count": null,
   "metadata": {},
   "outputs": [],
   "source": []
  }
 ],
 "metadata": {
  "kernelspec": {
   "display_name": "Python 3",
   "language": "python",
   "name": "python3"
  },
  "language_info": {
   "codemirror_mode": {
    "name": "ipython",
    "version": 3
   },
   "file_extension": ".py",
   "mimetype": "text/x-python",
   "name": "python",
   "nbconvert_exporter": "python",
   "pygments_lexer": "ipython3",
   "version": "3.7.1"
  }
 },
 "nbformat": 4,
 "nbformat_minor": 2
}
