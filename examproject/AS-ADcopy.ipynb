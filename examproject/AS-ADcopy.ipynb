{
 "cells": [
  {
   "cell_type": "markdown",
   "metadata": {},
   "source": [
    "# AS-AD model\n",
    "Consider the following **AS-AD model**. The **goods market equilibrium** is given by\n",
    "\n",
    "$$ y_{t} = -\\alpha r_{t} + v_{t} $$\n",
    "\n",
    "where $y_{t}$ is the **output gap**, $r_{t}$ is the **ex ante real interest** and $v_{t}$ is a **demand disturbance**. "
   ]
  },
  {
   "cell_type": "markdown",
   "metadata": {},
   "source": [
    "The central bank's **Taylor rule** is\n",
    "\n",
    "$$ i_{t} = \\pi_{t+1}^{e} + h \\pi_{t} + b y_{t}$$\n",
    "\n",
    "where $i_{t}$ is the **nominal interest rate**, $\\pi_{t}$ is the **inflation gap**, and $\\pi_{t+1}^{e}$ is the **expected inflation gap**. "
   ]
  },
  {
   "cell_type": "markdown",
   "metadata": {},
   "source": [
    "The **ex ante real interest rate** is given by \n",
    "\n",
    "$$ r_{t} = i_{t} - \\pi_{t+1}^{e} $$"
   ]
  },
  {
   "cell_type": "markdown",
   "metadata": {},
   "source": [
    "Together, the above implies that the **AD-curve** is\n",
    "\n",
    "$$ \\pi_{t} = \\frac{1}{h\\alpha}\\left[v_{t} - (1+b\\alpha)y_{t}\\right]$$"
   ]
  },
  {
   "cell_type": "markdown",
   "metadata": {},
   "source": [
    "Further, assume that the **short-run supply curve (SRAS)** is given by\n",
    "\n",
    "$$ \\pi_{t} = \\pi_{t}^{e} + \\gamma y_{t} + s_{t}$$\n",
    "\n",
    "where $s_t$ is a **supply disturbance**."
   ]
  },
  {
   "cell_type": "markdown",
   "metadata": {},
   "source": [
    "**Inflation expectations are adaptive** and given by\n",
    "\n",
    "$$ \\pi_{t}^{e} = \\phi\\pi_{t-1}^{e} + (1-\\phi)\\pi_{t-1}$$"
   ]
  },
  {
   "cell_type": "markdown",
   "metadata": {},
   "source": [
    "Together, this implies that the **SRAS-curve** can also be written as\n",
    "\n",
    "$$ \\pi_{t} = \\pi_{t-1} + \\gamma y_{t} - \\phi\\gamma y_{t-1} + s_{t} - \\phi s_{t-1} $$"
   ]
  },
  {
   "cell_type": "markdown",
   "metadata": {},
   "source": [
    "The **parameters** of the model are:"
   ]
  },
  {
   "cell_type": "code",
   "execution_count": 1,
   "metadata": {},
   "outputs": [],
   "source": [
    "import sympy as sm\n",
    "import numpy as np\n",
    "import matplotlib.pyplot as plt\n",
    "sm.init_printing(use_unicode=True)\n",
    "\n",
    "#Defining symbols\n",
    "pi_t = sm.symbols('pi_t')\n",
    "pi_t2 = sm.symbols('pi_t-1')\n",
    "y_t = sm.symbols('y_t')\n",
    "y_t2 = sm.symbols('y_t-1')\n",
    "v_t = sm.symbols('v_t')\n",
    "s_t = sm.symbols('s_t')\n",
    "s_t2 = sm.symbols('s_t-1')\n",
    "alpha = sm.symbols('alpha')\n",
    "gamma = sm.symbols('gamma')\n",
    "phi = sm.symbols('phi')\n",
    "h = sm.symbols('h')\n",
    "b = sm.symbols('b')\n",
    "\n"
   ]
  },
  {
   "cell_type": "markdown",
   "metadata": {},
   "source": [
    "## **Question 1:** Use the ``sympy`` module to solve for the equilibrium values of output, $y_t$, and inflation, $\\pi_t$, (where AD = SRAS) given the parameters ($\\alpha$, $h$, $b$, $\\alpha$, $\\gamma$) and $y_{t-1}$ , $\\pi_{t-1}$, $v_t$, $s_t$, and $s_{t-1}$.\n"
   ]
  },
  {
   "cell_type": "markdown",
   "metadata": {},
   "source": [
    "To find the equilibrium values of output and inflation, one needs to set AD equal to SRAS, then solve for and find $y_t^*$ and lastly substitute $y_t^*$ in to the AD function to find $\\pi_t^*$."
   ]
  },
  {
   "cell_type": "code",
   "execution_count": 2,
   "metadata": {},
   "outputs": [
    {
     "name": "stdout",
     "output_type": "stream",
     "text": [
      "The equilibrium for output y is:\n"
     ]
    },
    {
     "data": {
      "image/png": "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\n",
      "text/latex": [
       "$$\\left [ \\frac{\\alpha \\gamma h \\phi y_{t-1} + \\alpha h \\phi s_{t-1} - \\alpha h \\pi_{t-1} - \\alpha h s_{t} + v_{t}}{\\alpha b + \\alpha \\gamma h + 1}\\right ]$$"
      ],
      "text/plain": [
       "⎡α⋅γ⋅h⋅φ⋅yₜ₋₁ + α⋅h⋅φ⋅sₜ₋₁ - α⋅h⋅πₜ₋₁ - α⋅h⋅sₜ + vₜ⎤\n",
       "⎢──────────────────────────────────────────────────⎥\n",
       "⎣                 α⋅b + α⋅γ⋅h + 1                  ⎦"
      ]
     },
     "execution_count": 2,
     "metadata": {},
     "output_type": "execute_result"
    }
   ],
   "source": [
    "#Defining AD-curve\n",
    "AD = sm.Eq(pi_t,(1/(h*alpha))*(v_t-(1+b*alpha)*y_t))\n",
    "#Defining SRAS-curve\n",
    "SRAS = sm.Eq(pi_t,pi_t2+gamma*y_t-phi*gamma*y_t2+s_t-phi*s_t2)\n",
    "#Setting AD equal to SRAS and solving for equilibrium values of output, y*.\n",
    "AD_SRAS=sm.Eq((1/(h*alpha))*(v_t-(1+b*alpha)*y_t),pi_t2+gamma*y_t-phi*gamma*y_t2+s_t-phi*s_t2)\n",
    "eq_y = sm.solve(AD_SRAS,y_t)\n",
    "print('The equilibrium for output y is:')\n",
    "eq_y"
   ]
  },
  {
   "cell_type": "code",
   "execution_count": 3,
   "metadata": {},
   "outputs": [
    {
     "name": "stdout",
     "output_type": "stream",
     "text": [
      "The equilibrium for output pi is:\n"
     ]
    },
    {
     "data": {
      "image/png": "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\n",
      "text/latex": [
       "$$\\frac{v_{t} - \\frac{\\left(\\alpha b + 1\\right) \\left(\\alpha \\gamma h \\phi y_{t-1} + \\alpha h \\phi s_{t-1} - \\alpha h \\pi_{t-1} - \\alpha h s_{t} + v_{t}\\right)}{\\alpha b + \\alpha \\gamma h + 1}}{\\alpha h}$$"
      ],
      "text/plain": [
       "     (α⋅b + 1)⋅(α⋅γ⋅h⋅φ⋅yₜ₋₁ + α⋅h⋅φ⋅sₜ₋₁ - α⋅h⋅πₜ₋₁ - α⋅h⋅sₜ + vₜ)\n",
       "vₜ - ──────────────────────────────────────────────────────────────\n",
       "                            α⋅b + α⋅γ⋅h + 1                        \n",
       "───────────────────────────────────────────────────────────────────\n",
       "                                α⋅h                                "
      ]
     },
     "execution_count": 3,
     "metadata": {},
     "output_type": "execute_result"
    }
   ],
   "source": [
    "#Solving equilibrium values of pi\n",
    "#Substituting equilibrium of y_t* into the AD-function\n",
    "eq_pi=1/(h*alpha)*(v_t-(1+b*alpha)*eq_y[0])\n",
    "print('The equilibrium for output pi is:')\n",
    "eq_pi"
   ]
  },
  {
   "cell_type": "markdown",
   "metadata": {},
   "source": [
    "Now, one an just set the paramter values to find the equilibrium given the paramter values by setting parameter values and then re-solve the problem from the above solution."
   ]
  },
  {
   "cell_type": "code",
   "execution_count": 4,
   "metadata": {},
   "outputs": [
    {
     "name": "stdout",
     "output_type": "stream",
     "text": [
      "The equilibrium for output y given parameter values is:\n"
     ]
    },
    {
     "data": {
      "image/png": "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\n",
      "text/latex": [
       "$$\\left [ - 0.703125 \\pi_{t-1} - 0.703125 s_{t} + 0.244140625 v_{t}\\right ]$$"
      ],
      "text/plain": [
       "[-0.703125⋅πₜ₋₁ - 0.703125⋅sₜ + 0.244140625⋅vₜ]"
      ]
     },
     "execution_count": 4,
     "metadata": {},
     "output_type": "execute_result"
    }
   ],
   "source": [
    "#Setting parameter values\n",
    "alpha = 5.76\n",
    "h = 0.5\n",
    "b = 0.5\n",
    "phi = 0\n",
    "gamma = 0.075\n",
    "#Resolving for equilibrium\n",
    "AD_SRAS_val=sm.Eq((1/(h*alpha))*(v_t-(1+b*alpha)*y_t),pi_t2+gamma*y_t-phi*gamma*y_t2+s_t-phi*s_t2)\n",
    "eq_y_val = sm.solve(AD_SRAS_val,y_t)\n",
    "print('The equilibrium for output y given parameter values is:')\n",
    "eq_y_val"
   ]
  },
  {
   "cell_type": "code",
   "execution_count": 5,
   "metadata": {},
   "outputs": [
    {
     "name": "stdout",
     "output_type": "stream",
     "text": [
      "The equilibrium for output pi given parameter values is:\n"
     ]
    },
    {
     "data": {
      "image/png": "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\n",
      "text/latex": [
       "$$0.947265625 \\pi_{t-1} + 0.947265625 s_{t} + 0.018310546875 v_{t}$$"
      ],
      "text/plain": [
       "0.947265625⋅πₜ₋₁ + 0.947265625⋅sₜ + 0.018310546875⋅vₜ"
      ]
     },
     "execution_count": 5,
     "metadata": {},
     "output_type": "execute_result"
    }
   ],
   "source": [
    "eq_pi_val=1/(h*alpha)*(v_t-(1+b*alpha)*eq_y_val[0])\n",
    "print('The equilibrium for output pi given parameter values is:')\n",
    "eq_pi_val"
   ]
  },
  {
   "cell_type": "markdown",
   "metadata": {},
   "source": [
    "## **Question 2:** Find and illustrate the equilibrium when $y_{t-1} = \\pi_{t-1} = v_t = s_t = s_{t-1} = 0$. Illustrate how the equilibrium changes when instead $v_t = 0.1$."
   ]
  },
  {
   "cell_type": "markdown",
   "metadata": {},
   "source": [
    "To find the equilibrium when $y_{t-1} = \\pi_{t-1} = v_t = s_t = s_{t-1} = 0$, one needs to set the new values for the variables, and here, just re-solve the same problem as earlier. "
   ]
  },
  {
   "cell_type": "code",
   "execution_count": 6,
   "metadata": {},
   "outputs": [
    {
     "name": "stdout",
     "output_type": "stream",
     "text": [
      "The equilibrium for output y given parameter and variable values is:    0.000\n",
      "The equilibrium for output pi given parameter and variable values is:    0.000\n"
     ]
    }
   ],
   "source": [
    "#Setting variable values - parameter is similar to previous questions\n",
    "pi_t2 = 0\n",
    "y_t2 = 0\n",
    "v_t = 0\n",
    "s_t = 0\n",
    "s_t2 = 0\n",
    "\n",
    "#Solving for equilibrium given variable values \n",
    "AD_SRAS_param=sm.Eq((1/(h*alpha))*(v_t-(1+b*alpha)*y_t),pi_t2+gamma*y_t-phi*gamma*y_t2+s_t-phi*s_t2)\n",
    "eq_y_param = sm.solve(AD_SRAS_param,y_t)\n",
    "eq_pi_param=1/(h*alpha)*(v_t-(1+b*alpha)*eq_y_param[0])\n",
    "print('The equilibrium for output y given parameter and variable values is: %8.3f' % eq_y_param[0])\n",
    "print('The equilibrium for output pi given parameter and variable values is: %8.3f' % eq_pi_param)"
   ]
  },
  {
   "cell_type": "markdown",
   "metadata": {},
   "source": [
    "Now, one can investigate how the equilibrium changes when $v_t=0.1$"
   ]
  },
  {
   "cell_type": "code",
   "execution_count": 7,
   "metadata": {},
   "outputs": [
    {
     "name": "stdout",
     "output_type": "stream",
     "text": [
      "The equilibrium for output y given parameter and variable values is:    0.024\n",
      "The equilibrium for output pi given parameter and variable values is:    0.002\n"
     ]
    }
   ],
   "source": [
    "#Solving for equilibrium given v_t=0.1\n",
    "v_t2 = 0.1\n",
    "AD_SRAS_param2=sm.Eq((1/(h*alpha))*(v_t2-(1+b*alpha)*y_t),pi_t2+gamma*y_t-phi*gamma*y_t2+s_t-phi*s_t2)\n",
    "eq_y_param2 = sm.solve(AD_SRAS_param2,y_t)\n",
    "eq_pi_param2=1/(h*alpha)*(v_t2-(1+b*alpha)*eq_y_param2[0])\n",
    "print('The equilibrium for output y given parameter and variable values is: %8.3f' % eq_y_param2[0])\n",
    "print('The equilibrium for output pi given parameter and variable values is: %8.3f' % eq_pi_param2)"
   ]
  },
  {
   "cell_type": "markdown",
   "metadata": {},
   "source": [
    "Now, lets illustrate the equilibrium. First, one creates a vector consisting of the equilibrium values for $y_t$ and $\\pi_t$, respectively. Next step is to construct a illustration of the equilibrium values for given values of $v_t$."
   ]
  },
  {
   "cell_type": "code",
   "execution_count": 8,
   "metadata": {},
   "outputs": [],
   "source": [
    "#Creating vector with equilibrium values for y_t and pi_t for given values of v_t\n",
    "## Vector with equilibrium values for y\n",
    "y_values=[]\n",
    "y_values.append(eq_y_param[0])\n",
    "y_values.append(eq_y_param2[0])\n",
    "## Vector with equilibrium values for pi\n",
    "pi_values=[]\n",
    "pi_values.append(eq_pi_param)\n",
    "pi_values.append(eq_pi_param2)"
   ]
  },
  {
   "cell_type": "code",
   "execution_count": 9,
   "metadata": {},
   "outputs": [
    {
     "data": {
      "text/plain": [
       "Text(0.5, 1.0, 'Equilibrium values for given values of $v_t$')"
      ]
     },
     "execution_count": 9,
     "metadata": {},
     "output_type": "execute_result"
    },
    {
     "data": {
<<<<<<< HEAD
      "image/png": "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\n",
=======
      "image/png": "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\n",
>>>>>>> 2cb18ee757f6e7cf9db145883b6b65e0ed923fa0
      "text/plain": [
       "<Figure size 432x288 with 1 Axes>"
      ]
     },
     "metadata": {
      "needs_background": "light"
     },
     "output_type": "display_data"
    }
   ],
   "source": [
    "#Creating illustration of the equilibrium values\n",
    "fig = plt.figure()\n",
    "ax = fig.add_subplot(1, 1, 1)\n",
    "ax.scatter(pi_values[0], y_values[0], label='$v_t=0$')\n",
    "ax.scatter(pi_values[1], y_values[1], label='$v_t=0.1$')\n",
    "\n",
    "#Setting up illustration\n",
    "ax.grid()\n",
    "ax.legend()\n",
    "ax.set_ylabel('$y_t^*$')\n",
    "ax.set_xlabel('$\\pi_t^*$')\n",
    "ax.set_title('Equilibrium values for given values of $v_t$')"
   ]
  }
 ],
 "metadata": {
  "kernelspec": {
   "display_name": "Python [conda env:root] *",
   "language": "python",
   "name": "conda-root-py"
  },
  "language_info": {
   "codemirror_mode": {
    "name": "ipython",
    "version": 3
   },
   "file_extension": ".py",
   "mimetype": "text/x-python",
   "name": "python",
   "nbconvert_exporter": "python",
   "pygments_lexer": "ipython3",
   "version": "3.7.1"
  }
 },
 "nbformat": 4,
 "nbformat_minor": 2
}
