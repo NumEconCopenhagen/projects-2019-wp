{
 "cells": [
  {
   "cell_type": "markdown",
   "metadata": {},
   "source": [
    "# AS-AD model\n",
    "Consider the following **AS-AD model**. The **goods market equilibrium** is given by\n",
    "\n",
    "$$ y_{t} = -\\alpha r_{t} + v_{t} $$\n",
    "\n",
    "where $y_{t}$ is the **output gap**, $r_{t}$ is the **ex ante real interest** and $v_{t}$ is a **demand disturbance**. "
   ]
  },
  {
   "cell_type": "markdown",
   "metadata": {},
   "source": [
    "The central bank's **Taylor rule** is\n",
    "\n",
    "$$ i_{t} = \\pi_{t+1}^{e} + h \\pi_{t} + b y_{t}$$\n",
    "\n",
    "where $i_{t}$ is the **nominal interest rate**, $\\pi_{t}$ is the **inflation gap**, and $\\pi_{t+1}^{e}$ is the **expected inflation gap**. "
   ]
  },
  {
   "cell_type": "markdown",
   "metadata": {},
   "source": [
    "The **ex ante real interest rate** is given by \n",
    "\n",
    "$$ r_{t} = i_{t} - \\pi_{t+1}^{e} $$"
   ]
  },
  {
   "cell_type": "markdown",
   "metadata": {},
   "source": [
    "Together, the above implies that the **AD-curve** is\n",
    "\n",
    "$$ \\pi_{t} = \\frac{1}{h\\alpha}\\left[v_{t} - (1+b\\alpha)y_{t}\\right]$$"
   ]
  },
  {
   "cell_type": "markdown",
   "metadata": {},
   "source": [
    "Further, assume that the **short-run supply curve (SRAS)** is given by\n",
    "\n",
    "$$ \\pi_{t} = \\pi_{t}^{e} + \\gamma y_{t} + s_{t}$$\n",
    "\n",
    "where $s_t$ is a **supply disturbance**."
   ]
  },
  {
   "cell_type": "markdown",
   "metadata": {},
   "source": [
    "**Inflation expectations are adaptive** and given by\n",
    "\n",
    "$$ \\pi_{t}^{e} = \\phi\\pi_{t-1}^{e} + (1-\\phi)\\pi_{t-1}$$"
   ]
  },
  {
   "cell_type": "markdown",
   "metadata": {},
   "source": [
    "Together, this implies that the **SRAS-curve** can also be written as\n",
    "\n",
    "$$ \\pi_{t} = \\pi_{t-1} + \\gamma y_{t} - \\phi\\gamma y_{t-1} + s_{t} - \\phi s_{t-1} $$"
   ]
  },
  {
   "cell_type": "markdown",
   "metadata": {},
   "source": [
    "The **parameters** of the model are:"
   ]
  },
  {
   "cell_type": "code",
   "execution_count": 1,
   "metadata": {},
   "outputs": [],
   "source": [
    "import sympy as sm\n",
    "import numpy as np\n",
    "import matplotlib.pyplot as plt\n",
    "sm.init_printing(use_unicode=True)\n",
    "\n",
    "par = {}\n",
    "\n",
    "par['alpha'] = 5.76\n",
    "par['h'] = 0.5\n",
    "par['b'] = 0.5\n",
    "par['phi'] = 0\n",
    "par['gamma'] = 0.075\n",
    "\n",
    "#Defining symbols\n",
    "pi_t = sm.symbols('pi_t')\n",
    "pi_t2 = sm.symbols('pi_t-1')\n",
    "y_t = sm.symbols('y_t')\n",
    "y_t2 = sm.symbols('y_t-1')\n",
    "v_t = sm.symbols('v_t')\n",
    "s_t = sm.symbols('s_t')\n",
    "s_t2 = sm.symbols('s_t-1')\n",
    "alpha = sm.symbols('alpha')\n",
    "gamma = sm.symbols('gamma')\n",
    "phi = sm.symbols('phi')\n",
    "h = sm.symbols('h')\n",
    "b = sm.symbols('b')\n",
    "\n"
   ]
  },
  {
   "cell_type": "markdown",
   "metadata": {},
   "source": [
    "## **Question 1:** Use the ``sympy`` module to solve for the equilibrium values of output, $y_t$, and inflation, $\\pi_t$, (where AD = SRAS) given the parameters ($\\alpha$, $h$, $b$, $\\alpha$, $\\gamma$) and $y_{t-1}$ , $\\pi_{t-1}$, $v_t$, $s_t$, and $s_{t-1}$.\n"
   ]
  },
  {
   "cell_type": "code",
   "execution_count": 2,
   "metadata": {},
   "outputs": [
    {
     "name": "stdout",
     "output_type": "stream",
     "text": [
      "The equilibrium for output y is:\n"
     ]
    },
    {
     "data": {
      "image/png": "[encoded data removed]",
      "text/latex": [
       "$$\\frac{\\alpha \\gamma h \\phi y_{t-1} + \\alpha h \\phi s_{t-1} - \\alpha h \\pi_{t-1} - \\alpha h s_{t} + v_{t}}{\\alpha b + \\alpha \\gamma h + 1}$$"
      ],
      "text/plain": [
       "α⋅γ⋅h⋅φ⋅yₜ₋₁ + α⋅h⋅φ⋅sₜ₋₁ - α⋅h⋅πₜ₋₁ - α⋅h⋅sₜ + vₜ\n",
       "──────────────────────────────────────────────────\n",
       "                 α⋅b + α⋅γ⋅h + 1                  "
      ]
     },
     "execution_count": 2,
     "metadata": {},
     "output_type": "execute_result"
    }
   ],
   "source": [
    "#Defining AD-curve\n",
    "AD = sm.Eq(pi_t,(1/(h*alpha))*(v_t-(1+b*alpha)*y_t))\n",
    "#Defining SRAS-curve\n",
    "SRAS = sm.Eq(pi_t,pi_t2+gamma*y_t-phi*gamma*y_t2+s_t-phi*s_t2)\n",
    "#Setting AD equal to SRAS and solving for equilibrium values of output, y*.\n",
    "eq_1= sm.solve([AD, SRAS], [y_t, pi_t])\n",
    "eq_y=eq_1[y_t]\n",
    "print('The equilibrium for output y is:')\n",
    "eq_y"
   ]
  },
  {
   "cell_type": "code",
   "execution_count": 3,
   "metadata": {},
   "outputs": [
    {
     "name": "stdout",
     "output_type": "stream",
     "text": [
      "The equilibrium for output pi is:\n"
     ]
    },
    {
     "data": {
      "image/png": "[encoded data removed]",
      "text/latex": [
       "$$\\frac{\\gamma v_{t} - \\left(\\alpha b + 1\\right) \\left(\\gamma \\phi y_{t-1} + \\phi s_{t-1} - \\pi_{t-1} - s_{t}\\right)}{\\alpha b + \\alpha \\gamma h + 1}$$"
      ],
      "text/plain": [
       "γ⋅vₜ - (α⋅b + 1)⋅(γ⋅φ⋅yₜ₋₁ + φ⋅sₜ₋₁ - πₜ₋₁ - sₜ)\n",
       "────────────────────────────────────────────────\n",
       "                α⋅b + α⋅γ⋅h + 1                 "
      ]
     },
     "execution_count": 3,
     "metadata": {},
     "output_type": "execute_result"
    }
   ],
   "source": [
    "eq_pi=eq_1[pi_t]\n",
    "print('The equilibrium for output pi is:')\n",
    "eq_pi"
   ]
  },
  {
   "cell_type": "code",
   "execution_count": null,
   "metadata": {},
   "outputs": [],
   "source": [
    "#lambdifying for use in question 3\n",
    "\n",
    "pi_func = sm.lambdify((pi_t2, y_t2, v_t, s_t, s_t2, alpha, h, b, phi, gamma), eq_pi)\n",
    "y_func = sm.lambdify((pi_t2, y_t2, v_t, s_t, s_t2, alpha, h, b, phi, gamma), eq_y)"
   ]
  },
  {
   "cell_type": "markdown",
   "metadata": {},
   "source": [
    "Now, one an just set the paramter values to find the equilibrium given the paramter values"
   ]
  },
  {
   "cell_type": "code",
   "execution_count": null,
   "metadata": {},
   "outputs": [
    {
     "name": "stdout",
     "output_type": "stream",
     "text": [
      "The equilibrium for output y given parameter values is:\n"
     ]
    },
    {
     "data": {
      "image/png": "[encoded data removed]",
      "text/latex": [
       "$$\\left [ - 0.703125 \\pi_{t-1} - 0.703125 s_{t} + 0.244140625 v_{t}\\right ]$$"
      ],
      "text/plain": [
       "[-0.703125⋅πₜ₋₁ - 0.703125⋅sₜ + 0.244140625⋅vₜ]"
      ]
     },
     "execution_count": 5,
     "metadata": {},
     "output_type": "execute_result"
    }
   ],
   "source": [
    "#Setting parameter values\n",
    "\n",
    "alpha = par['alpha']\n",
    "h = par['h']\n",
    "b = par['b']\n",
    "phi = par['phi']\n",
    "gamma = par['gamma']\n",
    "#Resolving for equilibrium\n",
    "AD_SRAS_val=sm.Eq((1/(h*alpha))*(v_t-(1+b*alpha)*y_t),pi_t2+gamma*y_t-phi*gamma*y_t2+s_t-phi*s_t2)\n",
    "eq_y_val = sm.solve(AD_SRAS_val,y_t)\n",
    "print('The equilibrium for output y given parameter values is:')\n",
    "eq_y_val\n"
   ]
  },
  {
   "cell_type": "code",
   "execution_count": null,
   "metadata": {},
   "outputs": [
    {
     "name": "stdout",
     "output_type": "stream",
     "text": [
      "The equilibrium for output pi given parameter values is:\n"
     ]
    },
    {
     "data": {
      "image/png": "[encoded data removed]",
      "text/latex": [
       "$$0.947265625 \\pi_{t-1} + 0.947265625 s_{t} + 0.018310546875 v_{t}$$"
      ],
      "text/plain": [
       "0.947265625⋅πₜ₋₁ + 0.947265625⋅sₜ + 0.018310546875⋅vₜ"
      ]
     },
     "execution_count": 6,
     "metadata": {},
     "output_type": "execute_result"
    }
   ],
   "source": [
    "eq_pi_val=1/(h*alpha)*(v_t-(1+b*alpha)*eq_y_val[0])\n",
    "print('The equilibrium for output pi given parameter values is:')\n",
    "eq_pi_val"
   ]
  },
  {
   "cell_type": "markdown",
   "metadata": {},
   "source": [
    "## **Question 2:** Find and illustrate the equilibrium when $y_{t-1} = \\pi_{t-1} = v_t = s_t = s_{t-1} = 0$. Illustrate how the equilibrium changes when instead $v_t = 0.1$."
   ]
  },
  {
   "cell_type": "markdown",
   "metadata": {},
   "source": [
    "To find the equilibrium when $y_{t-1} = \\pi_{t-1} = v_t = s_t = s_{t-1} = 0$, one needs to set the new values for the variables, and here, just re-solve the same problem as earlier. "
   ]
  },
  {
   "cell_type": "code",
   "execution_count": null,
   "metadata": {},
   "outputs": [
    {
     "name": "stdout",
     "output_type": "stream",
     "text": [
      "The equilibrium for output y given parameter and variable values is:    0.000\n",
      "The equilibrium for output pi given parameter and variable values is:    0.000\n"
     ]
    }
   ],
   "source": [
    "#Setting variable values - parameter is similar to previous questions\n",
    "pi_t2 = 0\n",
    "y_t2 = 0\n",
    "v_t = 0\n",
    "s_t = 0\n",
    "s_t2 = 0\n",
    "\n",
    "#Solving for equilibrium given variable values \n",
    "AD_SRAS_param=sm.Eq((1/(h*alpha))*(v_t-(1+b*alpha)*y_t),pi_t2+gamma*y_t-phi*gamma*y_t2+s_t-phi*s_t2)\n",
    "eq_y_param = sm.solve(AD_SRAS_param,y_t)\n",
    "eq_pi_param=1/(h*alpha)*(v_t-(1+b*alpha)*eq_y_param[0])\n",
    "print('The equilibrium for output y given parameter and variable values is: %8.3f' % eq_y_param[0])\n",
    "print('The equilibrium for output pi given parameter and variable values is: %8.3f' % eq_pi_param)"
   ]
  },
  {
   "cell_type": "markdown",
   "metadata": {},
   "source": [
    "Now, one can investigate how the equilibrium changes when $v_t=0.1$"
   ]
  },
  {
   "cell_type": "code",
   "execution_count": null,
   "metadata": {},
   "outputs": [
    {
     "name": "stdout",
     "output_type": "stream",
     "text": [
      "The equilibrium for output y given parameter and variable values is:   0.0244\n",
      "The equilibrium for output pi given parameter and variable values is:   0.0018\n"
     ]
    }
   ],
   "source": [
    "#Solving for equilibrium given v_t=0.1\n",
    "v_t2 = 0.1\n",
    "AD_SRAS_param2=sm.Eq((1/(h*alpha))*(v_t2-(1+b*alpha)*y_t),pi_t2+gamma*y_t-phi*gamma*y_t2+s_t-phi*s_t2)\n",
    "eq_y_param2 = sm.solve(AD_SRAS_param2,y_t)\n",
    "eq_pi_param2=1/(h*alpha)*(v_t2-(1+b*alpha)*eq_y_param2[0])\n",
    "print('The equilibrium for output y given parameter and variable values is: %8.4f' % eq_y_param2[0])\n",
    "print('The equilibrium for output pi given parameter and variable values is: %8.4f' % eq_pi_param2)"
   ]
  },
  {
   "cell_type": "markdown",
   "metadata": {},
   "source": [
    "Now, lets illustrate the equilibrium. First, one creates a vector consisting of the equilibrium values for $y_t$ and $\\pi_t$, respectively. Next step is to construct a illustration of the equilibrium values for given values of $v_t$."
   ]
  },
  {
   "cell_type": "code",
   "execution_count": null,
   "metadata": {},
   "outputs": [],
   "source": [
    "#Creating vector with equilibrium values for y_t and pi_t for given values of v_t\n",
    "## Vector with equilibrium values for y\n",
    "y_values=[]\n",
    "y_values.append(eq_y_param[0])\n",
    "y_values.append(eq_y_param2[0])\n",
    "## Vector with equilibrium values for pi\n",
    "pi_values=[]\n",
    "pi_values.append(eq_pi_param)\n",
    "pi_values.append(eq_pi_param2)\n"
   ]
  },
  {
   "cell_type": "code",
   "execution_count": null,
   "metadata": {},
   "outputs": [
    {
     "data": {
      "text/plain": [
       "Text(0.5, 1.0, 'Equilibrium values for given values of $v_t$')"
      ]
     },
     "execution_count": 10,
     "metadata": {},
     "output_type": "execute_result"
    },
    {
     "data": {
      "image/png": "[encoded data removed]",
      "text/plain": [
       "<Figure size 432x288 with 1 Axes>"
      ]
     },
     "metadata": {
      "needs_background": "light"
     },
     "output_type": "display_data"
    }
   ],
   "source": [
    "#Creating illustration of the equilibrium values\n",
    "fig = plt.figure()\n",
    "ax = fig.add_subplot(1, 1, 1)\n",
    "ax.scatter(pi_values[0], y_values[0], label='$v_t=0$')\n",
    "ax.scatter(pi_values[1], y_values[1], label='$v_t=0.1$')\n",
    "\n",
    "#Setting up illustration\n",
    "ax.grid()\n",
    "ax.legend()\n",
    "ax.set_ylabel('$y_t^*$')\n",
    "ax.set_xlabel('$\\pi_t^*$')\n",
    "ax.set_title('Equilibrium values for given values of $v_t$')"
   ]
  },
  {
   "cell_type": "markdown",
   "metadata": {},
   "source": [
    "Skriv noget tekst her:"
   ]
  },
  {
   "cell_type": "markdown",
   "metadata": {},
   "source": [
    "## **Question 3:** Starting from $y_{-1} = \\pi_{-1} = s_{-1} = 0$, how does the economy evolve for $x_0 = 0.1$, $x_t = 0, \\forall t > 0$ and $c_t = 0, \\forall t \\geq 0$?"
   ]
  },
  {
   "cell_type": "markdown",
   "metadata": {},
   "source": [
    "**Persistent disturbances:** Now, additionaly, assume that both the demand and the supply disturbances are AR(1) processes\n",
    "\n",
    "$$ v_{t} = \\delta v_{t-1} + x_{t} $$\n",
    "$$ s_{t} = \\omega s_{t-1} + c_{t} $$\n",
    "\n",
    "where $x_{t}$ is a **demand shock**, and $c_t$ is a **supply shock**. The **autoregressive parameters** are:"
   ]
  },
  {
   "cell_type": "code",
   "execution_count": null,
   "metadata": {},
   "outputs": [],
   "source": [
    "par['delta'] = 0.80\n",
    "par['omega'] = 0.15\n",
    "delta = par['delta']\n",
    "omega = par['omega']"
   ]
  },
  {
   "cell_type": "markdown",
   "metadata": {},
   "source": [
    "Firstly, one needs to define the demand and supply disturbances as functions, set the value for the shocks, the amount of periods for the simulation to investigate the evolvement of the economy given $x_0 = 0.1$, $x_t = 0, \\forall t > 0$ and $c_t = 0, \\forall t \\geq 0$. Then, one can simulate the model. This will also be the order of solution."
   ]
  },
  {
   "cell_type": "code",
   "execution_count": null,
   "metadata": {},
   "outputs": [],
   "source": [
    "#Defining demand and supply disturbances and vectors\n",
    "v_t2 = sm.symbols('v_t2')\n",
    "s_t2 = sm.symbols('s_t2')\n",
    "v = lambda v_t2,x: delta*v_t2 + x\n",
    "s = lambda s_t2,c: omega*s_t2 + c\n",
    "v_vector = [0]\n",
    "s_vector = [0]\n",
    "\n",
    "#Defining amount of periods for simulation, demand and supply shock vectors. \n",
    "T = 200\n",
    "x = np.zeros(T)\n",
    "c = np.zeros(T)\n",
    "x[1] = 0.1 "
   ]
  },
  {
   "cell_type": "markdown",
   "metadata": {},
   "source": [
    "Now, one can run a loop to simulate the model for T periods."
   ]
  },
  {
   "cell_type": "code",
   "execution_count": null,
   "metadata": {},
   "outputs": [],
   "source": [
    "y_output = [0]\n",
    "pi_inflation = [0]\n",
    "#Running simulation of the model\n",
    "for t in range (1,T):\n",
    "    v_vector.append(v(v_vector[t-1], x[t]))\n",
    "    s_vector.append(s(s_vector[t-1], c[t]))"
   ]
  },
  {
   "cell_type": "code",
   "execution_count": null,
   "metadata": {},
   "outputs": [],
   "source": [
    "for t in range(1,T):\n",
    "    y_output.append(y_func(pi_inflation[t-1], y_output[t-1], v_vector[t], s_vector[t], s_vector[t-1], alpha, h, b, phi, gamma))\n",
    "    pi_inflation.append(pi_func(pi_inflation[t-1], y_output[t-1], v_vector[t], s_vector[t], s_vector[t-1], alpha, h, b, phi, gamma))"
   ]
  },
  {
   "cell_type": "code",
   "execution_count": null,
   "metadata": {},
   "outputs": [
    {
     "data": {
      "image/png": "[encoded data removed]",
      "text/plain": [
       "<Figure size 720x360 with 1 Axes>"
      ]
     },
     "metadata": {
      "needs_background": "light"
     },
     "output_type": "display_data"
    }
   ],
   "source": [
    "#Creating illustration of the equilibrium values\n",
    "fig = plt.figure(figsize= (10,5))\n",
    "bx = fig.add_subplot(1,1,1)\n",
    "bx.plot(range(0,200,1), y_output, label = 'Output')\n",
    "bx.plot(range(0,200,1), pi_inflation, label = 'Inflation')\n",
    "\n",
    "#Setting up illustration\n",
    "bx.legend()\n",
    "bx.grid()\n",
    "bx.set_xlabel('t') # \n",
    "bx.set_ylabel('$y_t, \\pi_t$')\n",
    "bx.set_title('Output and inflation gap for 200 periods')\n",
    "plt.xticks(range(0, 201, 50))\n",
    "plt.show()"
   ]
  },
  {
   "cell_type": "markdown",
   "metadata": {},
   "source": [
    "Skriv noget tekst her:"
   ]
  },
  {
   "cell_type": "markdown",
   "metadata": {},
   "source": [
    "## **Question 4:** Simulate the AS-AD model for 1,000 periods. Calculate the following five statistics:\n",
    "\n",
    "1. Variance of $y_t$, $var(y_t)$\n",
    "2. Variance of $\\pi_t$, $var(\\pi_t)$\n",
    "3. Correlation between $y_t$ and $\\pi_t$, $corr(y_t,\\pi_t)$\n",
    "4. Auto-correlation between $y_t$ and $y_{t-1}$, $corr(y_t,y_{t-1})$\n",
    "5. Auto-correlation between $\\pi_t$ and $\\pi_{t-1}$, $corr(\\pi_t,\\pi_{t-1})$"
   ]
  },
  {
   "cell_type": "markdown",
   "metadata": {},
   "source": [
    "**Stochastic shocks:** Now, additionally, assume that $x_t$ and $c_t$ are stochastic and normally distributed\n",
    "\n",
    "$$ x_{t}\\sim\\mathcal{N}(0,\\sigma_{x}^{2}) $$\n",
    "$$ c_{t}\\sim\\mathcal{N}(0,\\sigma_{c}^{2}) $$\n",
    "\n",
    "The **standard deviations of the shocks** are:"
   ]
  },
  {
   "cell_type": "code",
   "execution_count": null,
   "metadata": {},
   "outputs": [],
   "source": [
    "par['sigma_x'] = 3.492\n",
    "par['sigma_c'] = 0.2\n",
    "sigma_x = par['sigma_x']\n",
    "sigma_c = par['sigma_c']"
   ]
  },
  {
   "cell_type": "markdown",
   "metadata": {},
   "source": []
  },
  {
   "cell_type": "markdown",
   "metadata": {},
   "source": [
    "The following will be more or less equal to the simulation. Just with the modelling of stochastic shocks which are normally distributed. Firstly, one define the stochastic process and then run the simulation"
   ]
  },
  {
   "cell_type": "code",
   "execution_count": null,
   "metadata": {},
   "outputs": [],
   "source": [
    "#Defining stochastic shocks\n",
    "np.random.seed(127)\n",
    "T=1000\n",
    "x = np.random.normal(loc = 0, scale=sigma_x, size =T)\n",
    "c = np.random.normal(loc = 0, scale=sigma_c, size =T)\n",
    "\n",
    "#Defining empty lists\n",
    "v_vector2 = [0]\n",
    "s_vector2 = [0]\n",
    "pi_inflation2 = [0]\n",
    "y_output2 = [0]"
   ]
  },
  {
   "cell_type": "code",
   "execution_count": null,
   "metadata": {},
   "outputs": [],
   "source": [
    " for t in range(1,T):\n",
    "        v_vector2.append(v(v_vector2[t-1], x[t]))\n",
    "        s_vector2.append(s(s_vector2[t-1], c[t]))"
   ]
  },
  {
   "cell_type": "markdown",
   "metadata": {},
   "source": [
    "Now, one can start simulating the model for which a function, simulate, is defined."
   ]
  },
  {
   "cell_type": "code",
   "execution_count": null,
   "metadata": {},
   "outputs": [],
   "source": [
    "#Defining simulating function\n",
    "def simulate(T,phi):\n",
    "    for t in range(1,T):\n",
    "        v_vector2.append(v(v_vector2[t-1], x[t]))\n",
    "        s_vector2.append(s(s_vector2[t-1], c[t]))\n",
    "    \n",
    "        y_output2.append(y_func(pi_inflation2[t-1], y_output2[t-1], v_vector2[t], s_vector2[t], s_vector2[t-1], alpha, h, b, phi, gamma))\n",
    "        pi_inflation2.append(pi_func(pi_inflation2[t-1], y_output2[t-1], v_vector2[t], s_vector2[t], s_vector2[t-1], alpha, h, b, phi, gamma))\n",
    "    return y_output2, pi_inflation2"
   ]
  },
  {
   "cell_type": "code",
   "execution_count": null,
   "metadata": {},
   "outputs": [
    {
     "name": "stdout",
     "output_type": "stream",
     "text": [
      "Variance of y is    1.993\n",
      "Variance of pi is    1.039\n",
      "Correlation between y and $\\pi$ is   -0.167\n",
      "Auto-correlation between $y_t$ and $y_t-1$ is    0.775\n",
      "Auto-correlation between $pi_t$ and $\\pi_t-1$ is    0.980\n"
     ]
    }
   ],
   "source": [
    "#Simulation of the model\n",
    "simulate(T,phi)\n",
    "\n",
    "#Converting lists to arrays for printing\n",
    "y_output_sol=np.array(y_output2)\n",
    "pi_inflation_sol=np.array(pi_inflation2)\n",
    "\n",
    "#Printung the results\n",
    "print('Variance of y is %8.3f' % y_output_sol.var())\n",
    "print('Variance of pi is %8.3f' % pi_inflation_sol.var())\n",
    "print('Correlation between y and $\\pi$ is %8.3f' % np.corrcoef(y_output_sol, pi_inflation_sol)[1,0])\n",
    "print('Auto-correlation between $y_t$ and $y_t-1$ is %8.3f' % np.corrcoef(y_output_sol[1:], y_output_sol[:-1])[1,0])\n",
    "print('Auto-correlation between $pi_t$ and $\\pi_t-1$ is %8.3f' % np.corrcoef(pi_inflation_sol[1:], pi_inflation_sol[:-1])[1,0]) "
   ]
  },
  {
   "cell_type": "markdown",
   "metadata": {},
   "source": [
    "Skriv noget tekst her:"
   ]
  },
  {
   "cell_type": "markdown",
   "metadata": {},
   "source": [
    "## **Question 5:** Plot how the correlation between $y_t$ and $\\pi_t$ changes with $\\phi$. Use a numerical optimizer or root finder to choose $\\phi\\in(0,1)$ such that the simulated correlation between $y_t$ and $\\pi_t$ comes close to 0.31. "
   ]
  },
  {
   "cell_type": "code",
   "execution_count": null,
   "metadata": {},
   "outputs": [],
   "source": [
    "#Definning new phi and empty list for simulation\n",
    "phi_new = np.linspace(0,1,T)\n",
    "corr_ypi = [0]\n",
    "corr_final = [0]\n",
    "v_vector3 = [0]\n",
    "s_vector3 = [0]\n",
    "pi_inflation3 = [0]\n",
    "y_output3 = [0]"
   ]
  },
  {
   "cell_type": "code",
   "execution_count": null,
   "metadata": {},
   "outputs": [],
   "source": [
    "def simulate2(phi):\n",
    "    for t in range(1,T):\n",
    "        v_vector3.append(v(v_vector2[t-1], x[t]))\n",
    "        s_vector3.append(s(s_vector2[t-1], c[t]))\n",
    "    \n",
    "        y_output3.append(y_func(pi_inflation3[t-1], y_output3[t-1], v_vector2[t], s_vector2[t], s_vector2[t-1], alpha, h, b, phi, gamma))\n",
    "        pi_inflation3.append(pi_func(pi_inflation2[t-1], y_output2[t-1], v_vector2[t], s_vector2[t], s_vector2[t-1], alpha, h, b, phi, gamma))\n",
    "   \n",
    "    corr_ypi=np.corrcoef(y_output3, pi_inflation3)[1,0]\n",
    "    return y_output3, pi_inflation3, corr_ypi"
   ]
  },
  {
   "cell_type": "code",
   "execution_count": null,
   "metadata": {},
   "outputs": [],
   "source": [
    "v_vector3, s_vector3, corr_ypi = simulate2(phi)"
   ]
  },
  {
   "cell_type": "code",
   "execution_count": null,
   "metadata": {},
   "outputs": [],
   "source": [
    "for i in phi_new:\n",
    "    v_vector3, s_vector3, corr_ypi = simulate2(i)\n",
    "    corr_final.append(corr_ypi)    "
   ]
  },
  {
   "cell_type": "code",
   "execution_count": null,
   "metadata": {},
   "outputs": [],
   "source": [
    "#Creating illustration of the equilibrium values\n",
    "fig = plt.figure(dpi=100)\n",
    "cx = fig.add_subplot(1,1,1)\n",
    "cx.plot(phi_new, corr_final, label = 'Correlation')\n",
    "\n",
    "#Setting up illustration\n",
    "cx.legend()\n",
    "cx.grid()\n",
    "cx.set_xlabel('\\phi') # \n",
    "cx.set_ylabel('$Correlation between $y_t$ and $\\pi_t$')\n",
    "cx.set_title('Correlation for given values of $\\phi$')\n",
    "plt.show()"
   ]
  }
 ],
 "metadata": {
  "kernelspec": {
   "display_name": "Python 3",
   "language": "python",
   "name": "python3"
  },
  "language_info": {
   "codemirror_mode": {
    "name": "ipython",
    "version": 3
   },
   "file_extension": ".py",
   "mimetype": "text/x-python",
   "name": "python",
   "nbconvert_exporter": "python",
   "pygments_lexer": "ipython3",
   "version": "3.7.1"
  }
 },
 "nbformat": 4,
 "nbformat_minor": 2
}
