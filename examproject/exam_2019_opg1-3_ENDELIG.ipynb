{
 "cells": [
  {
   "cell_type": "code",
   "execution_count": 1,
   "metadata": {},
   "outputs": [],
   "source": [
    "import numpy as np\n",
    "import scipy as scip\n",
    "from scipy import linalg\n",
    "from scipy import optimize\n",
    "from scipy import interpolate\n",
    "import pandas as pd\n",
    "import sympy as sym\n",
    "import matplotlib.pyplot as plt\n",
    "from matplotlib import cm\n",
    "from mpl_toolkits.mplot3d import Axes3D"
   ]
  },
  {
   "cell_type": "markdown",
   "metadata": {},
   "source": [
    "# 1. Human capital accumulation"
   ]
  },
  {
   "cell_type": "markdown",
   "metadata": {},
   "source": [
    "Consider a worker living in **two periods**, $t \\in \\{1,2\\}$. \n",
    "\n",
    "In each period she decides whether to **work ($l_t = 1$) or not ($l_t = 0$)**. \n",
    "\n",
    "She can *not* borrow or save and thus **consumes all of her income** in each period. "
   ]
  },
  {
   "cell_type": "markdown",
   "metadata": {},
   "source": [
    "If she **works** her **consumption** becomes:\n",
    "\n",
    "$$c_t = w h_t l_t\\,\\,\\text{if}\\,\\,l_t=1$$\n",
    "\n",
    "where $w$ is **the wage rate** and $h_t$ is her **human capital**. \n",
    "\n",
    "If she does **not work** her consumption becomes:\n",
    "\n",
    "$$c_t = b\\,\\,\\text{if}\\,\\,l_t=0$$\n",
    "\n",
    "where $b$ is the **unemployment benefits**."
   ]
  },
  {
   "cell_type": "markdown",
   "metadata": {},
   "source": [
    "Her **utility of consumption** is: \n",
    "\n",
    "$$ \\frac{c_t^{1-\\rho}}{1-\\rho} $$\n",
    "\n",
    "Her **disutility of working** is:\n",
    "\n",
    "$$ \\gamma l_t $$"
   ]
  },
  {
   "cell_type": "markdown",
   "metadata": {},
   "source": [
    "From period 1 to period 2, she **accumulates human capital** according to:\n",
    "\n",
    "$$ h_2 = h_1 + l_1 + \n",
    "\\begin{cases}\n",
    "0 & \\text{with prob. }0.5 \\\\\n",
    "\\Delta & \\text{with prob. }0.5 \n",
    "\\end{cases} \\\\\n",
    "$$\n",
    "\n",
    "where $\\Delta$ is a **stochastic experience gain**."
   ]
  },
  {
   "cell_type": "markdown",
   "metadata": {},
   "source": [
    "In the **second period** the worker thus solves:\n",
    "\n",
    "$$\n",
    "\\begin{eqnarray*}\n",
    "v_{2}(h_{2}) & = &\\max_{l_{2}} \\frac{c_2^{1-\\rho}}{1-\\rho} - \\gamma l_2\n",
    "\\\\ & \\text{s.t.} & \\\\\n",
    "c_{2}& = & w h_2 l_2 \\\\\n",
    "l_{2}& \\in &\\{0,1\\}\n",
    "\\end{eqnarray*}\n",
    "$$"
   ]
  },
  {
   "cell_type": "markdown",
   "metadata": {},
   "source": [
    "In the **first period** the worker thus solves:\n",
    "\n",
    "$$\n",
    "\\begin{eqnarray*}\n",
    "v_{1}(h_{1}) &=& \\max_{l_{1}} \\frac{c_1^{1-\\rho}}{1-\\rho} - \\gamma l_1 + \\beta\\mathbb{E}_{1}\\left[v_2(h_2)\\right]\n",
    "\\\\ & \\text{s.t.} & \\\\\n",
    "c_1 &=& w h_1 l_1 \\\\\n",
    "h_2 &=& h_1 + l_1 + \\begin{cases}\n",
    "0 & \\text{with prob. }0.5\\\\\n",
    "\\Delta & \\text{with prob. }0.5 \n",
    "\\end{cases}\\\\\n",
    "l_{1} &\\in& \\{0,1\\}\\\\\n",
    "\\end{eqnarray*}\n",
    "$$\n",
    "\n",
    "where $\\beta$ is the **discount factor** and $\\mathbb{E}_{1}\\left[v_2(h_2)\\right]$ is the **expected value of living in period two**."
   ]
  },
  {
   "cell_type": "markdown",
   "metadata": {},
   "source": [
    "The **parameters** of the model are:"
   ]
  },
  {
   "cell_type": "markdown",
   "metadata": {},
   "source": [
    "The **relevant levels of human capital** are:"
   ]
  },
  {
   "cell_type": "code",
   "execution_count": 2,
   "metadata": {},
   "outputs": [],
   "source": [
    "h_vec = np.linspace(0.1,1.5,100) "
   ]
  },
  {
   "cell_type": "markdown",
   "metadata": {},
   "source": [
    "**Question 1:** Solve the model in period 2 and illustrate the solution (including labor supply as a function of human capital). \n",
    "\n",
    "We start by defining the consumption function, which will depend on whether or not she is working. If she is not working, then $l=0$ and she will consume $c=b$, if she is working she will consume $c=w*h$. \n",
    "\n",
    "Afterwards we define the utility function and bequest, the utility function is the first part of $v_2(h_2)$ defined in the text, and bequest is the second part in $v_2(h_2)$."
   ]
  },
  {
   "cell_type": "code",
   "execution_count": 3,
   "metadata": {},
   "outputs": [],
   "source": [
    "l = [0, 1]\n",
    "\n",
    "def consumption(w,h,b,l):\n",
    "    if l == 0:\n",
    "        c = b\n",
    "    elif l == 1:\n",
    "        c = w*h\n",
    "    return c\n",
    "\n",
    "def utility(rho,h,w,b,l):\n",
    "    return consumption(w,h,b,l)**(1-rho)/(1-rho)\n",
    "\n",
    "def bequest(l,gamma):\n",
    "    return gamma*l\n",
    "\n",
    "def v2(l2,h2,w,b,rho,gamma):\n",
    "    return utility(rho,h2,w,b,l2) - bequest(l2,gamma)"
   ]
  },
  {
   "cell_type": "code",
   "execution_count": 4,
   "metadata": {},
   "outputs": [],
   "source": [
    "rho = 2\n",
    "beta = 0.96\n",
    "gamma = 0.1\n",
    "w = 2\n",
    "b = 1\n",
    "Delta = 0.1"
   ]
  },
  {
   "cell_type": "markdown",
   "metadata": {},
   "source": [
    "We are now ready to solve the model. We do that by maximizing the utility given a level of human capital."
   ]
  },
  {
   "cell_type": "code",
   "execution_count": 5,
   "metadata": {},
   "outputs": [],
   "source": [
    "\n",
    "def solve_period_2(w,b,rho,gamma):\n",
    "\n",
    "    # h2_vec is the same as h_vec\n",
    "    # we then define an array without any entries, we define 100 of those for both l2 and v2.\n",
    "    h2_vec = np.linspace(0.1,1.5,100)\n",
    "    l2_vec = np.empty(100)\n",
    "    v2_vec = np.empty(100)\n",
    "    \n",
    "    # Solve for each h2 in grid\n",
    "    for i,h2 in enumerate(h2_vec):\n",
    "        \n",
    "        # We calculate the utility when working, that is v2_Yes and when not working (v2_No).\n",
    "        v2_No = v2(l[0],h2,w,b,rho,gamma)\n",
    "        v2_Yes = v2(l[1],h2,w,b,rho,gamma)\n",
    "        \n",
    "        # We then find the utility maximizing level of labor.\n",
    "        v2_vec[i] = max(v2_No,v2_Yes) #the vector is the maximum of the utility of either working or not working\n",
    "        l2_vec[i] = v2_Yes>v2_No\n",
    "        \n",
    "    return h2_vec,v2_vec,l2_vec"
   ]
  },
  {
   "cell_type": "code",
   "execution_count": 6,
   "metadata": {},
   "outputs": [],
   "source": [
    "h2_vec,v2_vec,l2_vec = solve_period_2(w,b,rho,gamma);"
   ]
  },
  {
   "cell_type": "code",
   "execution_count": 7,
   "metadata": {},
   "outputs": [
    {
     "name": "stdout",
     "output_type": "stream",
     "text": [
      "0.567\n"
     ]
    }
   ],
   "source": [
    "solution = np.where(l2_vec == 1)[0][0];\n",
    "print(str(round(h2_vec[solution],3)))"
   ]
  },
  {
   "cell_type": "markdown",
   "metadata": {},
   "source": [
    "We have that solution $h_2^*=0.567$ and she chooses the work whenever $h_2$ is greater than or equal to $0.567$\n"
   ]
  },
  {
   "cell_type": "code",
   "execution_count": 8,
   "metadata": {},
   "outputs": [
    {
     "data": {
      "text/plain": [
       "[<matplotlib.lines.Line2D at 0x1319b24be0>]"
      ]
     },
     "execution_count": 8,
     "metadata": {},
     "output_type": "execute_result"
    },
    {
     "data": {
      "image/png": "[encoded data removed]",
      "text/plain": [
       "<Figure size 1440x288 with 1 Axes>"
      ]
     },
     "metadata": {
      "needs_background": "light"
     },
     "output_type": "display_data"
    }
   ],
   "source": [
    "fig = plt.figure(figsize=(20,4))\n",
    "ax = fig.add_subplot(1,3,3)\n",
    "ax.plot(h2_vec,l2_vec)\n",
    "ax.grid()\n",
    "ax.set_xlabel('$Human\\ capital, period 2$')\n",
    "ax.set_ylabel('$Labor, period 2$')\n",
    "ax.set_xlim([0.0,1.2])\n",
    "ax.plot(0.555567,0.5,marker='.')"
   ]
  },
  {
   "cell_type": "markdown",
   "metadata": {},
   "source": [
    "**Question 2:** Solve the model in period 1 and illustrate the solution (including labor supply as a function of human capital). \n"
   ]
  },
  {
   "cell_type": "markdown",
   "metadata": {},
   "source": [
    "To solve this, we start out by constructing an interpolator, since the values in period 1 will depend on the values from period 2.\n"
   ]
  },
  {
   "cell_type": "code",
   "execution_count": 9,
   "metadata": {},
   "outputs": [],
   "source": [
    "v2_interp = interpolate.RegularGridInterpolator([h2_vec], v2_vec,bounds_error=False,fill_value=None)\n",
    "    "
   ]
  },
  {
   "cell_type": "markdown",
   "metadata": {},
   "source": [
    "We can now define the utility in period 1, which will depend on the value of v2 in period 2. "
   ]
  },
  {
   "cell_type": "code",
   "execution_count": 10,
   "metadata": {},
   "outputs": [],
   "source": [
    "def v1(l1,h1,w,b,rho,gamma,beta,Delta,v2_interp):\n",
    "    \n",
    "    # The level of v2 when gain is 0 with probability 50%\n",
    "    h2_zero = h1 + l1\n",
    "    v2_zero = v2_interp([h2_zero])[0]\n",
    "    \n",
    "    # The level of v2 when gain is Delta with probability 50%\n",
    "    h2_delta = h1 + l1 + Delta\n",
    "    v2_delta = v2_interp([h2_delta])[0]\n",
    "    \n",
    "    # We know calculate the expected value of v2\n",
    "    v2_expected = 0.5 * v2_zero + 0.5 * v2_delta\n",
    "    \n",
    "    # And at last we get the total utility\n",
    "    return utility(rho,h1,w,b,l1) - bequest(l1,gamma) + beta*v2_expected"
   ]
  },
  {
   "cell_type": "markdown",
   "metadata": {},
   "source": [
    "From here we do it the same way as we did in question 1."
   ]
  },
  {
   "cell_type": "code",
   "execution_count": 11,
   "metadata": {},
   "outputs": [],
   "source": [
    "def solve_period_1(w,b,rho,gamma,Delta,beta,v2_interp):\n",
    "    # This is done in the same way as in question 1:\n",
    "    h1_vec = np.linspace(0.1,1.5,100)\n",
    "    l1_vec = np.empty(100)\n",
    "    v1_vec = np.empty(100)\n",
    "    \n",
    "    \n",
    "    for i,h1 in enumerate(h1_vec):\n",
    "        \n",
    "        \n",
    "        v1_No = v1(l[0],h1,w,b,rho,gamma,beta,Delta,v2_interp)\n",
    "        v1_Yes = v1(l[1],h1,w,b,rho,gamma,beta,Delta,v2_interp)\n",
    "        \n",
    "        \n",
    "        v1_vec[i] = max(v1_No,v1_Yes)\n",
    "        l1_vec[i] = v1_Yes > v1_No\n",
    "        \n",
    "    return h1_vec,v1_vec,l1_vec"
   ]
  },
  {
   "cell_type": "code",
   "execution_count": 12,
   "metadata": {},
   "outputs": [],
   "source": [
    "h1_vec,v1_vec,l1_vec = solve_period_1(w,b,rho,gamma,Delta,beta,v2_interp)"
   ]
  },
  {
   "cell_type": "code",
   "execution_count": 13,
   "metadata": {},
   "outputs": [
    {
     "name": "stdout",
     "output_type": "stream",
     "text": [
      "0.355\n"
     ]
    }
   ],
   "source": [
    "solution = np.where(l1_vec == 1)[0][0];\n",
    "print(str(round(h1_vec[solution],3)))"
   ]
  },
  {
   "cell_type": "markdown",
   "metadata": {},
   "source": [
    "We have that $h_1^*=0.355$"
   ]
  },
  {
   "cell_type": "markdown",
   "metadata": {},
   "source": [
    "So she will decide to work in period 1 if her human capital is greater that or equal to $0.355$. We illustrate a figure below with the labor supply as a function of human capital."
   ]
  },
  {
   "cell_type": "code",
   "execution_count": 14,
   "metadata": {},
   "outputs": [
    {
     "data": {
      "text/plain": [
       "[<matplotlib.lines.Line2D at 0x1319ddfe48>]"
      ]
     },
     "execution_count": 14,
     "metadata": {},
     "output_type": "execute_result"
    },
    {
     "data": {
      "image/png": "[encoded data removed]",
      "text/plain": [
       "<Figure size 1440x288 with 1 Axes>"
      ]
     },
     "metadata": {
      "needs_background": "light"
     },
     "output_type": "display_data"
    }
   ],
   "source": [
    "fig = plt.figure(figsize=(20,4))\n",
    "ax = fig.add_subplot(1,3,3)\n",
    "ax.plot(h1_vec,l1_vec)\n",
    "ax.grid()\n",
    "ax.set_xlabel('$Human\\ capital, period 1$')\n",
    "ax.set_ylabel('$Labor, period 1$')\n",
    "ax.set_xlim([0.0,1.0])\n",
    "ax.plot(0.3445,0.5,marker='.')"
   ]
  },
  {
   "cell_type": "markdown",
   "metadata": {},
   "source": [
    "**Question 3:** Will the worker never work if her potential wage income is lower than the unemployment benefits she can get? Explain and illustrate why or why not."
   ]
  },
  {
   "cell_type": "markdown",
   "metadata": {},
   "source": [
    "The worker might work even though her potential wage income in period 1 is lower than the unemployment benefit. The reason is the stochastic experience gain we have defined. She accumulates human capital, if she doesn't work than $h_2=h_1+l_1$ while if she works then $h_2=h_1+l_1+\\Delta$. The reason she might be working in period 1 even though her wage income is lower than the unemployment benefit, is because she might accumulate enough human capital such that in period 2 she will get an even higher wage, and thus be able to consume more."
   ]
  },
  {
   "cell_type": "code",
   "execution_count": 15,
   "metadata": {},
   "outputs": [],
   "source": [
    "def v1NO(l1,h1,w,b,rho,gamma,beta,v2_interp):\n",
    "    \n",
    "    # The level of v2 when gain is 0 with probability 50%\n",
    "    h2_zero = h1 + l1\n",
    "    v2_zero = v2_interp([h2_zero])[0]\n",
    "    \n",
    "    # d. total value\n",
    "    return utility(rho,h1,w,b,l1) - bequest(l1,gamma) + beta*v2_zero"
   ]
  },
  {
   "cell_type": "code",
   "execution_count": 16,
   "metadata": {},
   "outputs": [],
   "source": [
    "def solve_period_1NO(w,b,rho,gamma,Delta,beta,v2_interp):\n",
    "    # a. grids\n",
    "    h1NO_vec = np.linspace(0.1,1.5,100)\n",
    "    l1NO_vec = np.empty(100)\n",
    "    v1NO_vec = np.empty(100)\n",
    "    \n",
    "    # b. solve for each h1 in grid\n",
    "    for i,h1 in enumerate(h1_vec):\n",
    "        \n",
    "        # We now calculate the utility when working (v1_1) and not working (v1_0)\n",
    "        v1NO_0 = v1NO(l[0],h1,w,b,rho,gamma,beta,v2_interp)\n",
    "        v1NO_1 = v1NO(l[1],h1,w,b,rho,gamma,beta,v2_interp)\n",
    "        \n",
    "        \n",
    "        v1NO_vec[i] = max(v1NO_0,v1NO_1)\n",
    "        l1NO_vec[i] = v1NO_1 > v1NO_0\n",
    "        \n",
    "    return h1NO_vec,v1NO_vec,l1NO_vec"
   ]
  },
  {
   "cell_type": "markdown",
   "metadata": {},
   "source": [
    "The idea here was to show the utility as defined in question two and a utility function where there are no stochastic gain (so only $h_1+l_1$ with probability 1), but it somehow messes up. The idea was to show how the utilities differ, and that might explain why sometimes she might choose to work even though she would consume less in the first period."
   ]
  },
  {
   "cell_type": "markdown",
   "metadata": {},
   "source": [
    "Consider the following **AS-AD model**. The **goods market equilibrium** is given by\n",
    "\n",
    "$$ y_{t} = -\\alpha r_{t} + v_{t} $$\n",
    "\n",
    "where $y_{t}$ is the **output gap**, $r_{t}$ is the **ex ante real interest** and $v_{t}$ is a **demand disturbance**. "
   ]
  },
  {
   "cell_type": "markdown",
   "metadata": {},
   "source": [
    "The central bank's **Taylor rule** is\n",
    "\n",
    "$$ i_{t} = \\pi_{t+1}^{e} + h \\pi_{t} + b y_{t}$$\n",
    "\n",
    "where $i_{t}$ is the **nominal interest rate**, $\\pi_{t}$ is the **inflation gap**, and $\\pi_{t+1}^{e}$ is the **expected inflation gap**. "
   ]
  },
  {
   "cell_type": "markdown",
   "metadata": {},
   "source": [
    "The **ex ante real interest rate** is given by \n",
    "\n",
    "$$ r_{t} = i_{t} - \\pi_{t+1}^{e} $$"
   ]
  },
  {
   "cell_type": "markdown",
   "metadata": {},
   "source": [
    "Together, the above implies that the **AD-curve** is\n",
    "\n",
    "$$ \\pi_{t} = \\frac{1}{h\\alpha}\\left[v_{t} - (1+b\\alpha)y_{t}\\right]$$"
   ]
  },
  {
   "cell_type": "markdown",
   "metadata": {},
   "source": [
    "Further, assume that the **short-run supply curve (SRAS)** is given by\n",
    "\n",
    "$$ \\pi_{t} = \\pi_{t}^{e} + \\gamma y_{t} + s_{t}$$\n",
    "\n",
    "where $s_t$ is a **supply disturbance**."
   ]
  },
  {
   "cell_type": "markdown",
   "metadata": {},
   "source": [
    "**Inflation expectations are adaptive** and given by\n",
    "\n",
    "$$ \\pi_{t}^{e} = \\phi\\pi_{t-1}^{e} + (1-\\phi)\\pi_{t-1}$$"
   ]
  },
  {
   "cell_type": "markdown",
   "metadata": {},
   "source": [
    "Together, this implies that the **SRAS-curve** can also be written as\n",
    "\n",
    "$$ \\pi_{t} = \\pi_{t-1} + \\gamma y_{t} - \\phi\\gamma y_{t-1} + s_{t} - \\phi s_{t-1} $$"
   ]
  },
  {
   "cell_type": "markdown",
   "metadata": {},
   "source": [
    "The **parameters** of the model are:"
   ]
  },
  {
   "cell_type": "code",
   "execution_count": 17,
   "metadata": {},
   "outputs": [],
   "source": [
    "par = {}\n",
    "\n",
    "par['alpha'] = 5.76\n",
    "par['h'] = 0.5\n",
    "par['b'] = 0.5\n",
    "par['phi'] = 0\n",
    "par['gamma'] = 0.075"
   ]
  },
  {
   "cell_type": "markdown",
   "metadata": {},
   "source": [
    "**Question 1:** Use the ``sympy`` module to solve for the equilibrium values of output, $y_t$, and inflation, $\\pi_t$, (where AD = SRAS) given the parameters ($\\alpha$, $h$, $b$, $\\alpha$, $\\gamma$) and $y_{t-1}$ , $\\pi_{t-1}$, $v_t$, $s_t$, and $s_{t-1}$.\n",
    "\n",
    "**Question 2:** Find and illustrate the equilibrium when $y_{t-1} = \\pi_{t-1} = v_t = s_t = s_{t-1} = 0$. Illustrate how the equilibrium changes when instead $v_t = 0.1$."
   ]
  },
  {
   "cell_type": "markdown",
   "metadata": {},
   "source": [
    "**Persistent disturbances:** Now, additionaly, assume that both the demand and the supply disturbances are AR(1) processes\n",
    "\n",
    "$$ v_{t} = \\delta v_{t-1} + x_{t} $$\n",
    "$$ s_{t} = \\omega s_{t-1} + c_{t} $$\n",
    "\n",
    "where $x_{t}$ is a **demand shock**, and $c_t$ is a **supply shock**. The **autoregressive parameters** are:"
   ]
  },
  {
   "cell_type": "code",
   "execution_count": 18,
   "metadata": {},
   "outputs": [],
   "source": [
    "par['delta'] = 0.80\n",
    "par['omega'] = 0.15"
   ]
  },
  {
   "cell_type": "markdown",
   "metadata": {},
   "source": [
    "**Question 3:** Starting from $y_{-1} = \\pi_{-1} = s_{-1} = 0$, how does the economy evolve for $x_0 = 0.1$, $x_t = 0, \\forall t > 0$ and $c_t = 0, \\forall t \\geq 0$?"
   ]
  },
  {
   "cell_type": "markdown",
   "metadata": {},
   "source": [
    "**Stochastic shocks:** Now, additionally, assume that $x_t$ and $c_t$ are stochastic and normally distributed\n",
    "\n",
    "$$ x_{t}\\sim\\mathcal{N}(0,\\sigma_{x}^{2}) $$\n",
    "$$ c_{t}\\sim\\mathcal{N}(0,\\sigma_{c}^{2}) $$\n",
    "\n",
    "The **standard deviations of the shocks** are:"
   ]
  },
  {
   "cell_type": "code",
   "execution_count": 19,
   "metadata": {},
   "outputs": [],
   "source": [
    "par['sigma_x'] = 3.492\n",
    "par['sigma_c'] = 0.2"
   ]
  },
  {
   "cell_type": "markdown",
   "metadata": {},
   "source": [
    "**Question 4:** Simulate the AS-AD model for 1,000 periods. Calculate the following five statistics:\n",
    "\n",
    "1. Variance of $y_t$, $var(y_t)$\n",
    "2. Variance of $\\pi_t$, $var(\\pi_t)$\n",
    "3. Correlation between $y_t$ and $\\pi_t$, $corr(y_t,\\pi_t)$\n",
    "4. Auto-correlation between $y_t$ and $y_{t-1}$, $corr(y_t,y_{t-1})$\n",
    "5. Auto-correlation between $\\pi_t$ and $\\pi_{t-1}$, $corr(\\pi_t,\\pi_{t-1})$"
   ]
  },
  {
   "cell_type": "markdown",
   "metadata": {},
   "source": [
    "**Question 5:** Plot how the correlation between $y_t$ and $\\pi_t$ changes with $\\phi$. Use a numerical optimizer or root finder to choose $\\phi\\in(0,1)$ such that the simulated correlation between $y_t$ and $\\pi_t$ comes close to 0.31. "
   ]
  },
  {
   "cell_type": "markdown",
   "metadata": {},
   "source": [
    "**Quesiton 6:** Use a numerical optimizer to choose $\\sigma_x>0$, $\\sigma_c>0$ and $\\phi\\in(0,1)$ to make the simulated statistics as close as possible to US business cycle data where:\n",
    "\n",
    "1. $var(y_t) = 1.64$\n",
    "2. $var(\\pi_t) = 0.21$\n",
    "3. $corr(y_t,\\pi_t) = 0.31$\n",
    "4. $corr(y_t,y_{t-1}) = 0.84$\n",
    "5. $corr(\\pi_t,\\pi_{t-1}) = 0.48$"
   ]
  },
  {
   "cell_type": "markdown",
   "metadata": {},
   "source": [
    "# 3. Exchange economy"
   ]
  },
  {
   "cell_type": "markdown",
   "metadata": {},
   "source": [
    "Consider an **exchange economy** with\n",
    "\n",
    "1. 3 goods, $(x_1,x_2,x_3)$\n",
    "2. $N$ consumers indexed by \\\\( j \\in \\{1,2,\\dots,N\\} \\\\)\n",
    "3. Preferences are Cobb-Douglas with log-normally distributed coefficients\n",
    "\n",
    "    $$ \\begin{eqnarray*}\n",
    "    u^{j}(x_{1},x_{2},x_{3}) &=& \n",
    "    \\left(x_{1}^{\\beta_{1}^{j}}x_{2}^{\\beta_{2}^{j}}x_{3}^{\\beta_{3}^{j}}\\right)^{\\gamma}\\\\\n",
    "     &  & \\,\\,\\,\\beta_{i}^{j}=\\frac{\\alpha_{i}^{j}}{\\alpha_{1}^{j}+\\alpha_{2}^{j}+\\alpha_{3}^{j}} \\\\\n",
    "     &  & \\,\\,\\,\\boldsymbol{\\alpha}^{j}=(\\alpha_{1}^{j},\\alpha_{2}^{j},\\alpha_{3}^{j}) \\\\ \n",
    "     &  & \\,\\,\\,\\log(\\boldsymbol{\\alpha}^j) \\sim \\mathcal{N}(\\mu,\\Sigma) \\\\\n",
    "    \\end{eqnarray*} $$\n",
    "\n",
    "4. Endowments are exponentially distributed,\n",
    "\n",
    "$$\n",
    "\\begin{eqnarray*}\n",
    "\\boldsymbol{e}^{j} &=& (e_{1}^{j},e_{2}^{j},e_{3}^{j}) \\\\\n",
    " &  & e_i^j \\sim f, f(z;\\zeta) =  1/\\zeta \\exp(-z/\\zeta)\n",
    "\\end{eqnarray*}\n",
    "$$"
   ]
  },
  {
   "cell_type": "markdown",
   "metadata": {},
   "source": [
    "Let $p_3 = 1$ be the **numeraire**. The implied **demand functions** are:\n",
    "\n",
    "$$\n",
    "\\begin{eqnarray*}\n",
    "x_{i}^{\\star j}(p_{1},p_{2},\\boldsymbol{e}^{j})&=&\\beta^{j}_i\\frac{I^j}{p_{i}} \\\\\n",
    "\\end{eqnarray*}\n",
    "$$\n",
    "\n",
    "where consumer $j$'s income is\n",
    "\n",
    "$$I^j = p_1 e_1^j + p_2 e_2^j +p_3 e_3^j$$"
   ]
  },
  {
   "cell_type": "markdown",
   "metadata": {},
   "source": [
    "The **parameters** and **random preferences and endowments** are given by:"
   ]
  },
  {
   "cell_type": "code",
   "execution_count": 17,
   "metadata": {},
   "outputs": [],
   "source": [
    "# a. parameters\n",
    "N = 50000\n",
    "mu = np.array([3,2,1])\n",
    "Sigma = np.array([[0.25, 0, 0], [0, 0.25, 0], [0, 0, 0.25]])\n",
    "gamma = 0.8\n",
    "zeta = 1\n",
    "\n",
    "# b. random draws\n",
    "seed = 1986\n",
    "np.random.seed(seed)\n",
    "\n",
    "# preferences\n",
    "alphas = np.exp(np.random.multivariate_normal(mu, Sigma, size=N))\n",
    "betas = alphas/np.reshape(np.sum(alphas,axis=1),(N,1))\n",
    "\n",
    "# endowments\n",
    "e1 = np.random.exponential(zeta,size=N)\n",
    "e2 = np.random.exponential(zeta,size=N)\n",
    "e3 = np.random.exponential(zeta,size=N)"
   ]
  },
  {
   "cell_type": "markdown",
   "metadata": {},
   "source": [
    "**Question 1:** Plot the histograms of the budget shares for each good across agents.\n",
    "\n",
    "Consider the **excess demand functions:**\n",
    "\n",
    "$$ z_i(p_1,p_2) = \\sum_{j=1}^N x_{i}^{\\star j}(p_{1},p_{2},\\boldsymbol{e}^{j}) - e_i^j$$\n"
   ]
  },
  {
   "cell_type": "code",
   "execution_count": 18,
   "metadata": {},
   "outputs": [
    {
     "data": {
      "image/png": "[encoded data removed]",
      "text/plain": [
       "<Figure size 864x360 with 3 Axes>"
      ]
     },
     "metadata": {
      "needs_background": "light"
     },
     "output_type": "display_data"
    }
   ],
   "source": [
    "# Plotting histogram of budget shares\n",
    "\n",
    "# Plotting histogram of each beta with 200 bins.\n",
    "fig = plt.figure(figsize=(12,5))\n",
    "ax = fig.add_subplot(1,3,1)\n",
    "ax.hist(betas[:,0],bins=200,histtype='bar')\n",
    "ax.set_xlabel('$beta_1$')\n",
    "ax.set_ylabel('Consumers')\n",
    "ax.set_title('Good 1')\n",
    "ax.set_ylim([0, 1250])\n",
    "\n",
    "ax = fig.add_subplot(1,3,2)\n",
    "ax.hist(betas[:,1],bins=200,histtype='bar')\n",
    "ax.set_xlabel('$beta_2$')\n",
    "ax.set_title('Good 2')\n",
    "ax.set_ylim([0, 1250])\n",
    "\n",
    "ax = fig.add_subplot(1,3,3)\n",
    "ax.hist(betas[:,2],bins=200,histtype='bar')\n",
    "ax.set_xlabel('$beta_3$')\n",
    "ax.set_title('Good 3')\n",
    "ax.set_ylim([0, 1250]);"
   ]
  },
  {
   "cell_type": "markdown",
   "metadata": {},
   "source": [
    "**Question 2:** Plot the excess demand functions."
   ]
  },
  {
   "cell_type": "code",
   "execution_count": 19,
   "metadata": {},
   "outputs": [],
   "source": [
    "#We first define the demand functions, as we set p3=1 we have just excluded that term.\n",
    "\n",
    "def demand_good1(p1,p2,e1,e2,e3,betas):\n",
    "    I = e1*p1+e2*p2+e3\n",
    "    return betas[:,0]*I/p1\n",
    "\n",
    "def demand_good2(p1,p2,e1,e2,e3,betas):\n",
    "    I = e1*p1+e2*p2+e3\n",
    "    return betas[:,1]*I/p2\n",
    "\n",
    "def demand_good3(p1,p2,e1,e2,e3,betas):\n",
    "    I = e1*p1+e2*p2+e3\n",
    "    return betas[:,2]*I\n",
    "\n",
    "#We then define the excess demand functions, and supply functions for good 1 and good 2.\n",
    "\n",
    "def excess1(p1,p2,e1,e2,e3,betas):\n",
    "    demand = np.sum(demand_good1(p1,p2,e1,e2,e3,betas))\n",
    "    supply = np.sum(e1)\n",
    "    excess1 = demand - supply\n",
    "    return excess1\n",
    "\n",
    "def excess2(p1,p2,e1,e2,e3,betas):\n",
    "    demand = np.sum(demand_good2(p1,p2,e1,e2,e3,betas))\n",
    "    supply = np.sum(e2)\n",
    "    excess2 = demand - supply\n",
    "    return excess2\n",
    "\n",
    "# We then define an array of prices\n",
    "p1_s = np.linspace(0.1,10,100)\n",
    "p2_s = np.linspace(0.1,10,100)\n",
    "\n",
    "# Creating grids for excess demand\n",
    "excess_grid1 = np.empty((100,100))\n",
    "excess_grid2 = np.empty((100,100))\n",
    "\n",
    "# And then we transform our price-vectors into grids using meshgrid\n",
    "p1_grid, p2_grid = np.meshgrid(p1_s,p2_s,indexing='ij')\n",
    "\n",
    "# We can then calculate excess demand for each combination of prices:\n",
    "for i,p1 in enumerate(p1_s):\n",
    "    for j,p2 in enumerate(p2_s):\n",
    "        excess_grid1[i,j] = excess1(p1,p2,e1,e2,e3,betas)\n",
    "        excess_grid2[i,j] = excess2(p1,p2,e1,e2,e3,betas)"
   ]
  },
  {
   "cell_type": "code",
   "execution_count": 20,
   "metadata": {},
   "outputs": [
    {
     "data": {
      "image/png": "[encoded data removed]",
      "text/plain": [
       "<Figure size 720x288 with 2 Axes>"
      ]
     },
     "metadata": {
      "needs_background": "light"
     },
     "output_type": "display_data"
    }
   ],
   "source": [
    "# We can now plot our results\n",
    "fig = plt.figure(figsize=(10,4))\n",
    "ax = fig.add_subplot(1,2,1, projection='3d')\n",
    "ax.plot_surface(p1_grid, p2_grid, excess_grid1)\n",
    "ax.invert_xaxis()\n",
    "ax.set_title('Excess demand, good 1')\n",
    "ax.set_xlabel('$p_1$')\n",
    "ax.set_ylabel('$p_2$')\n",
    "\n",
    "ax = fig.add_subplot(1,2,2, projection='3d')\n",
    "ax.plot_surface(p1_grid, p2_grid, excess_grid2)\n",
    "ax.invert_xaxis()\n",
    "ax.set_title('Excess demand, good 2')\n",
    "ax.set_xlabel('$p_1$')\n",
    "ax.set_ylabel('$p_2$');"
   ]
  },
  {
   "cell_type": "markdown",
   "metadata": {},
   "source": [
    "**Quesiton 3:** Find the Walras-equilibrium prices, $(p_1,p_2)$, where both excess demands are (approximately) zero, e.g. by using the following tâtonnement process:\n",
    "\n",
    "1. Guess on $p_1 > 0$, $p_2 > 0$ and choose tolerance $\\epsilon > 0$ and adjustment aggressivity parameter, $\\kappa > 0$.\n",
    "2. Calculate $z_1(p_1,p_2)$ and $z_2(p_1,p_2)$.\n",
    "3. If $|z_1| < \\epsilon$ and $|z_2| < \\epsilon$ then stop.\n",
    "4. Else set $p_1 = p_1 + \\kappa \\frac{z_1}{N}$ and $p_2 = p_2 + \\kappa \\frac{z_2}{N}$ and return to step 2."
   ]
  },
  {
   "cell_type": "code",
   "execution_count": 21,
   "metadata": {},
   "outputs": [],
   "source": [
    "def tatonnement(p1,p2,e1,e2,e3,betas,tol=1e-7,kappa=0.2,prints=True):\n",
    "  # Calculating initial excess demands\n",
    "    z_1 = excess1(p1,p2,e1,e2,e3,betas)\n",
    "    z_2 = excess2(p1,p2,e1,e2,e3,betas)\n",
    "    \n",
    "# Setting iteration counter to 1\n",
    "    t = 1\n",
    "    \n",
    "    # We start the loop here, we will have a maximum of 20.000 loops\n",
    "    while t < 20000:\n",
    "        \n",
    "        # We calculate the initial excess demands\n",
    "        z_1 = excess1(p1,p2,e1,e2,e3,betas)\n",
    "        z_2 = excess2(p1,p2,e1,e2,e3,betas)\n",
    "\n",
    "        # Set our tolerance level:\n",
    "        if abs(z_1)<tol and abs(z_2)<tol:\n",
    "            if prints:\n",
    "                print(f'\\nIn the Walras equilibrium we have: p1 = {p1:.2f} and p2 = {p2:.2f}')\n",
    "            p1_eq = p1\n",
    "            p2_eq = p2\n",
    "            return p1_eq, p2_eq\n",
    "\n",
    "        # If no convergence, we will multiply our excess demand by kappa and take the average:\n",
    "        else:\n",
    "            p1 += kappa*z_1/N\n",
    "            p2 += kappa*z_2/N\n",
    "\n",
    "        # We then print the iteration proces   \n",
    "        if prints:\n",
    "            if t <= 10 or t%1000==0:\n",
    "                print(f'Iter {t:6.0f}: Excess good 1 = {z_1:10.2f}, Excess good 2 = {z_2:10.2f} => p1 = {p1:10.2f}, p2 = {p2:10.2f}')\n",
    "\n",
    "        t += 1\n",
    "        \n",
    "    # Print statement if maximum numbers of iterations is exceeded\n",
    "    if t == 20000: \n",
    "        text = 'No convergence \\n'\n",
    "        print(text)\n",
    "        return None, None"
   ]
  },
  {
   "cell_type": "code",
   "execution_count": 22,
   "metadata": {},
   "outputs": [
    {
     "name": "stdout",
     "output_type": "stream",
     "text": [
      "Iter      1: Excess good 1 =   -1802.03, Excess good 2 =   27583.49 => p1 =       3.99, p2 =       1.11\n",
      "Iter      2: Excess good 1 =    -890.71, Excess good 2 =   21094.24 => p1 =       3.99, p2 =       1.19\n",
      "Iter      3: Excess good 1 =    -200.19, Excess good 2 =   16961.42 => p1 =       3.99, p2 =       1.26\n",
      "Iter      4: Excess good 1 =     346.52, Excess good 2 =   14060.01 => p1 =       3.99, p2 =       1.32\n",
      "Iter      5: Excess good 1 =     790.31, Excess good 2 =   11901.20 => p1 =       3.99, p2 =       1.37\n",
      "Iter      6: Excess good 1 =    1156.25, Excess good 2 =   10231.46 => p1 =       4.00, p2 =       1.41\n",
      "Iter      7: Excess good 1 =    1461.18, Excess good 2 =    8903.73 => p1 =       4.00, p2 =       1.44\n",
      "Iter      8: Excess good 1 =    1717.07, Excess good 2 =    7825.81 => p1 =       4.01, p2 =       1.47\n",
      "Iter      9: Excess good 1 =    1932.83, Excess good 2 =    6936.50 => p1 =       4.02, p2 =       1.50\n",
      "Iter     10: Excess good 1 =    2115.29, Excess good 2 =    6193.32 => p1 =       4.03, p2 =       1.53\n",
      "Iter   1000: Excess good 1 =      42.54, Excess good 2 =      15.87 => p1 =       6.44, p2 =       2.60\n",
      "Iter   2000: Excess good 1 =       1.08, Excess good 2 =       0.40 => p1 =       6.49, p2 =       2.62\n",
      "Iter   3000: Excess good 1 =       0.03, Excess good 2 =       0.01 => p1 =       6.49, p2 =       2.62\n",
      "Iter   4000: Excess good 1 =       0.00, Excess good 2 =       0.00 => p1 =       6.49, p2 =       2.62\n",
      "Iter   5000: Excess good 1 =       0.00, Excess good 2 =       0.00 => p1 =       6.49, p2 =       2.62\n",
      "Iter   6000: Excess good 1 =       0.00, Excess good 2 =       0.00 => p1 =       6.49, p2 =       2.62\n",
      "\n",
      "In the Walras equilibrium we have: p1 = 6.49 and p2 = 2.62\n"
     ]
    }
   ],
   "source": [
    "# Finding Walras-equilibrium prices\n",
    "\n",
    "# Initial guess on prices\n",
    "p1 = 4\n",
    "p2 = 1\n",
    "\n",
    "# Calling function to find equilibrium prices\n",
    "p1_eq, p2_eq = tatonnement(p1,p2,e1,e2,e3,betas)"
   ]
  },
  {
   "cell_type": "markdown",
   "metadata": {},
   "source": [
    "**Question 4:** Plot the distribution of utility in the Walras-equilibrium and calculate its mean and variance."
   ]
  },
  {
   "cell_type": "code",
   "execution_count": 23,
   "metadata": {},
   "outputs": [],
   "source": [
    "def u(p1, p2, e1, e2, e3, betas, gamma):\n",
    "\n",
    "    # Income is given by:\n",
    "    I = p1*e1+p2*e2+e3\n",
    "    \n",
    "    # Demand is given by:\n",
    "    demand1 = betas[:,0]*(I/p1)\n",
    "    demand2 = betas[:,1]*(I/p2)\n",
    "    demand3 = betas[:,2]*I\n",
    "    \n",
    "    # Calculating utility\n",
    "    u = (demand1**betas[:,0]+demand2**betas[:,1]+demand3**betas[:,2])**gamma\n",
    "    return u"
   ]
  },
  {
   "cell_type": "code",
   "execution_count": 24,
   "metadata": {},
   "outputs": [
    {
     "name": "stdout",
     "output_type": "stream",
     "text": [
      "Mean: 2.38\n",
      "Variance: 0.21\n"
     ]
    }
   ],
   "source": [
    "# We make a function that creates a vector of utilities\n",
    "u_vec = u(p1_eq, p2_eq, e1, e2, e3, betas, gamma)\n",
    "\n",
    "# we can then find the mean and variance\n",
    "mean = np.mean(u_vec)\n",
    "var = np.var(u_vec)\n",
    "print(f'Mean: {mean:.2f}')\n",
    "print(f'Variance: {var:.2f}')"
   ]
  },
  {
   "cell_type": "code",
   "execution_count": 25,
   "metadata": {},
   "outputs": [
    {
     "data": {
      "text/plain": [
       "Text(0, 0.5, 'Consumers')"
      ]
     },
     "execution_count": 25,
     "metadata": {},
     "output_type": "execute_result"
    },
    {
     "data": {
      "image/png": "[encoded data removed]",
      "text/plain": [
       "<Figure size 432x288 with 1 Axes>"
      ]
     },
     "metadata": {
      "needs_background": "light"
     },
     "output_type": "display_data"
    }
   ],
   "source": [
    "# Plotting distribution of utilities, and printing mean and variance\n",
    "plt.hist(u_vec, bins=500)\n",
    "plt.title('Utility distribution')\n",
    "plt.xlabel('Utility')\n",
    "plt.ylabel('Consumers')"
   ]
  },
  {
   "cell_type": "markdown",
   "metadata": {},
   "source": [
    "**Question 5:** Find the Walras-equilibrium prices if instead all endowments were distributed equally. Discuss the implied changes in the distribution of utility. Does the value of $\\gamma$ play a role for your conclusions?"
   ]
  },
  {
   "cell_type": "code",
   "execution_count": 26,
   "metadata": {},
   "outputs": [],
   "source": [
    "e1_new = np.ones(N)*np.mean(e1)\n",
    "e2_new = np.ones(N)*np.mean(e2)\n",
    "e3_new = np.ones(N)*np.mean(e3)\n"
   ]
  },
  {
   "cell_type": "code",
   "execution_count": 27,
   "metadata": {},
   "outputs": [
    {
     "name": "stdout",
     "output_type": "stream",
     "text": [
      "Iter      1: Excess good 1 =   -1811.29, Excess good 2 =   27618.68 => p1 =       3.99, p2 =       1.11\n",
      "Iter      2: Excess good 1 =    -898.66, Excess good 2 =   21117.58 => p1 =       3.99, p2 =       1.19\n",
      "Iter      3: Excess good 1 =    -207.23, Excess good 2 =   16978.68 => p1 =       3.99, p2 =       1.26\n",
      "Iter      4: Excess good 1 =     340.19, Excess good 2 =   14073.55 => p1 =       3.99, p2 =       1.32\n",
      "Iter      5: Excess good 1 =     784.53, Excess good 2 =   11912.24 => p1 =       3.99, p2 =       1.37\n",
      "Iter      6: Excess good 1 =    1150.94, Excess good 2 =   10240.69 => p1 =       4.00, p2 =       1.41\n",
      "Iter      7: Excess good 1 =    1456.26, Excess good 2 =    8911.60 => p1 =       4.00, p2 =       1.44\n",
      "Iter      8: Excess good 1 =    1712.48, Excess good 2 =    7832.63 => p1 =       4.01, p2 =       1.47\n",
      "Iter      9: Excess good 1 =    1928.53, Excess good 2 =    6942.48 => p1 =       4.02, p2 =       1.50\n",
      "Iter     10: Excess good 1 =    2111.24, Excess good 2 =    6198.61 => p1 =       4.03, p2 =       1.53\n",
      "Iter   1000: Excess good 1 =      42.32, Excess good 2 =      15.81 => p1 =       6.44, p2 =       2.60\n",
      "Iter   2000: Excess good 1 =       1.07, Excess good 2 =       0.40 => p1 =       6.48, p2 =       2.62\n",
      "Iter   3000: Excess good 1 =       0.03, Excess good 2 =       0.01 => p1 =       6.49, p2 =       2.62\n",
      "Iter   4000: Excess good 1 =       0.00, Excess good 2 =       0.00 => p1 =       6.49, p2 =       2.62\n",
      "Iter   5000: Excess good 1 =       0.00, Excess good 2 =       0.00 => p1 =       6.49, p2 =       2.62\n",
      "Iter   6000: Excess good 1 =       0.00, Excess good 2 =       0.00 => p1 =       6.49, p2 =       2.62\n",
      "\n",
      "In the Walras equilibrium we have: p1 = 6.49 and p2 = 2.62\n"
     ]
    }
   ],
   "source": [
    "p1 = 4\n",
    "p2 = 1\n",
    "\n",
    "p1_new, p2_new = tatonnement(p1,p2,e1_new,e2_new,e3_new,betas)"
   ]
  },
  {
   "cell_type": "markdown",
   "metadata": {},
   "source": [
    "We see that the changes in the distribution of endowments doesn't have a significant effect on the prices. In fact the prices are identical to the previous situation."
   ]
  },
  {
   "cell_type": "code",
   "execution_count": 28,
   "metadata": {},
   "outputs": [],
   "source": [
    "def u_new(p1, p2, e1, e2, e3, betas, gamma):\n",
    "\n",
    "    # Income is given by:\n",
    "    I = p1*e1+p2*e2+e3\n",
    "    \n",
    "    # Demand is given by:\n",
    "    demand1_new = betas[:,0]*(I/p1)\n",
    "    demand2_new = betas[:,1]*(I/p2)\n",
    "    demand3_new = betas[:,2]*I\n",
    "    \n",
    "    # Calculating utility\n",
    "    u = (demand1_new**betas[:,0]+demand2_new**betas[:,1]+demand3_new**betas[:,2])**gamma\n",
    "    return u_new"
   ]
  },
  {
   "cell_type": "code",
   "execution_count": 29,
   "metadata": {},
   "outputs": [
    {
     "name": "stdout",
     "output_type": "stream",
     "text": [
      "Mean: 5.22\n",
      "Variance: 3.71\n"
     ]
    }
   ],
   "source": [
    "# We make a function that creates a vector of utilities\n",
    "u_vec_new = u(p1_eq, p2_eq, e1, e2, e3, betas, 1.5)\n",
    "\n",
    "# we can then find the mean and variance\n",
    "mean = np.mean(u_vec_new)\n",
    "var = np.var(u_vec_new)\n",
    "print(f'Mean: {mean:.2f}')\n",
    "print(f'Variance: {var:.2f}')"
   ]
  },
  {
   "cell_type": "markdown",
   "metadata": {},
   "source": [
    "Even though the prices are unchanged, gamma will have an impact on the mean and variance. By increasing gamma from $0.8$ to $1.5$ the mean have increased from $2.38$ to $5.22$ while the variance have increased from $0.21$ to $3.71$"
   ]
  },
  {
   "cell_type": "code",
   "execution_count": 30,
   "metadata": {},
   "outputs": [
    {
     "data": {
      "image/png": "[encoded data removed]",
      "text/plain": [
       "<Figure size 864x360 with 1 Axes>"
      ]
     },
     "metadata": {
      "needs_background": "light"
     },
     "output_type": "display_data"
    }
   ],
   "source": [
    "fig = plt.figure(figsize=(12,5))\n",
    "plt.hist(u_vec, bins=200, label='$\\gamma$ = 0.8')\n",
    "plt.hist(u_vec_new, bins=200, color='orange', label='$\\gamma$ = 1.5')\n",
    "plt.legend()\n",
    "plt.title('Distribution of utility')\n",
    "plt.xlabel('Utility')\n",
    "plt.ylabel('Consumers');"
   ]
  }
 ],
 "metadata": {
  "kernelspec": {
   "display_name": "Python 3",
   "language": "python",
   "name": "python3"
  },
  "language_info": {
   "codemirror_mode": {
    "name": "ipython",
    "version": 3
   },
   "file_extension": ".py",
   "mimetype": "text/x-python",
   "name": "python",
   "nbconvert_exporter": "python",
   "pygments_lexer": "ipython3",
   "version": "3.7.1"
  },
  "toc-autonumbering": false
 },
 "nbformat": 4,
 "nbformat_minor": 2
}
